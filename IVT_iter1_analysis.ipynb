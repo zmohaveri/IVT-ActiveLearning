{
  "nbformat": 4,
  "nbformat_minor": 0,
  "metadata": {
    "colab": {
      "name": "IVT-iter1-analysis.ipynb",
      "provenance": [],
      "collapsed_sections": [
        "uBYL8sF6C07h",
        "-S9tv-s3PuMf"
      ],
      "mount_file_id": "1wAul0Gw35XVNnT-BWNNDBVDiEmQoh7QR",
      "authorship_tag": "ABX9TyN9ZzAjhCWEb8IfbX0FbDMX",
      "include_colab_link": true
    },
    "kernelspec": {
      "name": "python3",
      "display_name": "Python 3"
    }
  },
  "cells": [
    {
      "cell_type": "markdown",
      "metadata": {
        "id": "view-in-github",
        "colab_type": "text"
      },
      "source": [
        "<a href=\"https://colab.research.google.com/github/zmohaveri/IVT-ActiveLearning/blob/main/IVT_iter1_analysis.ipynb\" target=\"_parent\"><img src=\"https://colab.research.google.com/assets/colab-badge.svg\" alt=\"Open In Colab\"/></a>"
      ]
    },
    {
      "cell_type": "code",
      "metadata": {
        "id": "ISAjSoAmhzJ7"
      },
      "source": [
        "import numpy as np\n",
        "import pandas as pd\n",
        "from matplotlib import pyplot as plt\n",
        "import seaborn as sns\n",
        "from scipy.stats import linregress\n",
        "from math import sqrt\n",
        "from scipy.optimize import curve_fit\n",
        "from scipy.signal import savgol_filter\n",
        "from collections import OrderedDict \n",
        "import tensorflow as tf\n",
        "from sklearn.model_selection import train_test_split\n",
        "import time as tm"
      ],
      "execution_count": 1,
      "outputs": []
    },
    {
      "cell_type": "code",
      "metadata": {
        "id": "d1uuByaPbET2"
      },
      "source": [
        "from tensorflow.keras.models import Sequential\n",
        "from tensorflow.keras.layers import Dense\n",
        "from tensorflow.keras.layers import LeakyReLU"
      ],
      "execution_count": 2,
      "outputs": []
    },
    {
      "cell_type": "markdown",
      "metadata": {
        "id": "nenDZb4cnGwa"
      },
      "source": [
        "#Import and clean the data"
      ]
    },
    {
      "cell_type": "code",
      "metadata": {
        "id": "Fl0rSrmhiV5g",
        "outputId": "ad8c7b4e-6e48-4421-e5dd-7405e43acb98",
        "colab": {
          "base_uri": "https://localhost:8080/",
          "height": 208
        }
      },
      "source": [
        "path='/content/drive/My Drive/Thesis/201008-ZM-IVT-iter1/201008-ZM-IVT-iter1.xlsx'\n",
        "df=pd.read_excel(path,header=11)#,usecols=(lambda x: type(x) is not str))\n",
        "df.drop(labels='Time [s]',axis=1,inplace=True)\n",
        "df.head(3)"
      ],
      "execution_count": 3,
      "outputs": [
        {
          "output_type": "execute_result",
          "data": {
            "text/html": [
              "<div>\n",
              "<style scoped>\n",
              "    .dataframe tbody tr th:only-of-type {\n",
              "        vertical-align: middle;\n",
              "    }\n",
              "\n",
              "    .dataframe tbody tr th {\n",
              "        vertical-align: top;\n",
              "    }\n",
              "\n",
              "    .dataframe thead th {\n",
              "        text-align: right;\n",
              "    }\n",
              "</style>\n",
              "<table border=\"1\" class=\"dataframe\">\n",
              "  <thead>\n",
              "    <tr style=\"text-align: right;\">\n",
              "      <th></th>\n",
              "      <th>Unnamed: 0</th>\n",
              "      <th>Unnamed: 1</th>\n",
              "      <th>0</th>\n",
              "      <th>240</th>\n",
              "      <th>480</th>\n",
              "      <th>720</th>\n",
              "      <th>960</th>\n",
              "      <th>1200</th>\n",
              "      <th>1440</th>\n",
              "      <th>1680</th>\n",
              "      <th>1920</th>\n",
              "      <th>2160</th>\n",
              "      <th>2400</th>\n",
              "      <th>2640</th>\n",
              "      <th>2880</th>\n",
              "      <th>3120</th>\n",
              "      <th>3360</th>\n",
              "      <th>3600</th>\n",
              "      <th>3840</th>\n",
              "      <th>4080</th>\n",
              "      <th>4320</th>\n",
              "      <th>4560</th>\n",
              "      <th>4800</th>\n",
              "      <th>5040</th>\n",
              "      <th>5280</th>\n",
              "      <th>5520</th>\n",
              "      <th>5760</th>\n",
              "      <th>6000</th>\n",
              "      <th>6240</th>\n",
              "      <th>6480</th>\n",
              "      <th>6720</th>\n",
              "      <th>6960</th>\n",
              "      <th>7200</th>\n",
              "      <th>7440</th>\n",
              "      <th>7680</th>\n",
              "      <th>7920</th>\n",
              "      <th>8160</th>\n",
              "      <th>8400</th>\n",
              "      <th>8640</th>\n",
              "      <th>8880</th>\n",
              "      <th>...</th>\n",
              "      <th>50400</th>\n",
              "      <th>50640</th>\n",
              "      <th>50880</th>\n",
              "      <th>51120</th>\n",
              "      <th>51360</th>\n",
              "      <th>51600</th>\n",
              "      <th>51840</th>\n",
              "      <th>52080</th>\n",
              "      <th>52320</th>\n",
              "      <th>52560</th>\n",
              "      <th>52800</th>\n",
              "      <th>53040</th>\n",
              "      <th>53280</th>\n",
              "      <th>53520</th>\n",
              "      <th>53760</th>\n",
              "      <th>54000</th>\n",
              "      <th>54240</th>\n",
              "      <th>54480</th>\n",
              "      <th>54720</th>\n",
              "      <th>54960</th>\n",
              "      <th>55200</th>\n",
              "      <th>55440</th>\n",
              "      <th>55680</th>\n",
              "      <th>55920</th>\n",
              "      <th>56160</th>\n",
              "      <th>56400</th>\n",
              "      <th>56640</th>\n",
              "      <th>56880</th>\n",
              "      <th>57120</th>\n",
              "      <th>57360</th>\n",
              "      <th>57600</th>\n",
              "      <th>57840</th>\n",
              "      <th>58080</th>\n",
              "      <th>58320</th>\n",
              "      <th>58560</th>\n",
              "      <th>58800</th>\n",
              "      <th>59040</th>\n",
              "      <th>59280</th>\n",
              "      <th>59520</th>\n",
              "      <th>59760</th>\n",
              "    </tr>\n",
              "  </thead>\n",
              "  <tbody>\n",
              "    <tr>\n",
              "      <th>0</th>\n",
              "      <td>A</td>\n",
              "      <td>10</td>\n",
              "      <td>1008</td>\n",
              "      <td>1566</td>\n",
              "      <td>2465</td>\n",
              "      <td>3560</td>\n",
              "      <td>4691</td>\n",
              "      <td>5752</td>\n",
              "      <td>6647</td>\n",
              "      <td>7518</td>\n",
              "      <td>8134</td>\n",
              "      <td>8924</td>\n",
              "      <td>9527</td>\n",
              "      <td>10182</td>\n",
              "      <td>10674</td>\n",
              "      <td>11155</td>\n",
              "      <td>11528</td>\n",
              "      <td>11847</td>\n",
              "      <td>12154</td>\n",
              "      <td>12437</td>\n",
              "      <td>12621</td>\n",
              "      <td>12838</td>\n",
              "      <td>12968</td>\n",
              "      <td>13116</td>\n",
              "      <td>13178</td>\n",
              "      <td>13286</td>\n",
              "      <td>13395</td>\n",
              "      <td>13382</td>\n",
              "      <td>13471</td>\n",
              "      <td>13479</td>\n",
              "      <td>13508</td>\n",
              "      <td>13592</td>\n",
              "      <td>13581</td>\n",
              "      <td>13583</td>\n",
              "      <td>13543</td>\n",
              "      <td>13562</td>\n",
              "      <td>13581</td>\n",
              "      <td>13545</td>\n",
              "      <td>13546</td>\n",
              "      <td>13532</td>\n",
              "      <td>...</td>\n",
              "      <td>14098</td>\n",
              "      <td>14060</td>\n",
              "      <td>14099</td>\n",
              "      <td>14077</td>\n",
              "      <td>14065</td>\n",
              "      <td>14049</td>\n",
              "      <td>14056</td>\n",
              "      <td>14052</td>\n",
              "      <td>14087</td>\n",
              "      <td>14070</td>\n",
              "      <td>14084</td>\n",
              "      <td>14084</td>\n",
              "      <td>14120</td>\n",
              "      <td>14115</td>\n",
              "      <td>14077</td>\n",
              "      <td>14104</td>\n",
              "      <td>14102</td>\n",
              "      <td>14094</td>\n",
              "      <td>14119</td>\n",
              "      <td>14164</td>\n",
              "      <td>14157</td>\n",
              "      <td>14156</td>\n",
              "      <td>14138</td>\n",
              "      <td>14138</td>\n",
              "      <td>14096</td>\n",
              "      <td>14161</td>\n",
              "      <td>14160</td>\n",
              "      <td>14201</td>\n",
              "      <td>14166</td>\n",
              "      <td>14170</td>\n",
              "      <td>14194</td>\n",
              "      <td>14137</td>\n",
              "      <td>14197</td>\n",
              "      <td>14202</td>\n",
              "      <td>14189</td>\n",
              "      <td>14162</td>\n",
              "      <td>14200</td>\n",
              "      <td>14214</td>\n",
              "      <td>14257</td>\n",
              "      <td>14218</td>\n",
              "    </tr>\n",
              "    <tr>\n",
              "      <th>1</th>\n",
              "      <td>A</td>\n",
              "      <td>11</td>\n",
              "      <td>1165</td>\n",
              "      <td>1161</td>\n",
              "      <td>1137</td>\n",
              "      <td>1101</td>\n",
              "      <td>1094</td>\n",
              "      <td>1102</td>\n",
              "      <td>1113</td>\n",
              "      <td>1128</td>\n",
              "      <td>1031</td>\n",
              "      <td>1129</td>\n",
              "      <td>1099</td>\n",
              "      <td>1084</td>\n",
              "      <td>1053</td>\n",
              "      <td>1023</td>\n",
              "      <td>987</td>\n",
              "      <td>925</td>\n",
              "      <td>883</td>\n",
              "      <td>883</td>\n",
              "      <td>877</td>\n",
              "      <td>874</td>\n",
              "      <td>881</td>\n",
              "      <td>867</td>\n",
              "      <td>861</td>\n",
              "      <td>859</td>\n",
              "      <td>866</td>\n",
              "      <td>857</td>\n",
              "      <td>871</td>\n",
              "      <td>875</td>\n",
              "      <td>873</td>\n",
              "      <td>884</td>\n",
              "      <td>886</td>\n",
              "      <td>894</td>\n",
              "      <td>891</td>\n",
              "      <td>894</td>\n",
              "      <td>885</td>\n",
              "      <td>890</td>\n",
              "      <td>886</td>\n",
              "      <td>890</td>\n",
              "      <td>...</td>\n",
              "      <td>843</td>\n",
              "      <td>833</td>\n",
              "      <td>835</td>\n",
              "      <td>835</td>\n",
              "      <td>835</td>\n",
              "      <td>838</td>\n",
              "      <td>836</td>\n",
              "      <td>838</td>\n",
              "      <td>838</td>\n",
              "      <td>837</td>\n",
              "      <td>837</td>\n",
              "      <td>839</td>\n",
              "      <td>841</td>\n",
              "      <td>833</td>\n",
              "      <td>831</td>\n",
              "      <td>836</td>\n",
              "      <td>833</td>\n",
              "      <td>835</td>\n",
              "      <td>834</td>\n",
              "      <td>839</td>\n",
              "      <td>837</td>\n",
              "      <td>832</td>\n",
              "      <td>833</td>\n",
              "      <td>836</td>\n",
              "      <td>840</td>\n",
              "      <td>839</td>\n",
              "      <td>836</td>\n",
              "      <td>835</td>\n",
              "      <td>837</td>\n",
              "      <td>836</td>\n",
              "      <td>834</td>\n",
              "      <td>832</td>\n",
              "      <td>835</td>\n",
              "      <td>834</td>\n",
              "      <td>826</td>\n",
              "      <td>839</td>\n",
              "      <td>837</td>\n",
              "      <td>845</td>\n",
              "      <td>838</td>\n",
              "      <td>834</td>\n",
              "    </tr>\n",
              "    <tr>\n",
              "      <th>2</th>\n",
              "      <td>A</td>\n",
              "      <td>12</td>\n",
              "      <td>756</td>\n",
              "      <td>819</td>\n",
              "      <td>896</td>\n",
              "      <td>970</td>\n",
              "      <td>1027</td>\n",
              "      <td>1064</td>\n",
              "      <td>1047</td>\n",
              "      <td>1103</td>\n",
              "      <td>1133</td>\n",
              "      <td>1153</td>\n",
              "      <td>1160</td>\n",
              "      <td>1173</td>\n",
              "      <td>1181</td>\n",
              "      <td>1174</td>\n",
              "      <td>1152</td>\n",
              "      <td>1134</td>\n",
              "      <td>1135</td>\n",
              "      <td>1130</td>\n",
              "      <td>1127</td>\n",
              "      <td>1132</td>\n",
              "      <td>1139</td>\n",
              "      <td>1128</td>\n",
              "      <td>1122</td>\n",
              "      <td>1123</td>\n",
              "      <td>1124</td>\n",
              "      <td>1118</td>\n",
              "      <td>1128</td>\n",
              "      <td>1124</td>\n",
              "      <td>1116</td>\n",
              "      <td>1126</td>\n",
              "      <td>1123</td>\n",
              "      <td>1120</td>\n",
              "      <td>1131</td>\n",
              "      <td>1122</td>\n",
              "      <td>1127</td>\n",
              "      <td>1117</td>\n",
              "      <td>1120</td>\n",
              "      <td>1117</td>\n",
              "      <td>...</td>\n",
              "      <td>1041</td>\n",
              "      <td>1039</td>\n",
              "      <td>1039</td>\n",
              "      <td>1034</td>\n",
              "      <td>1041</td>\n",
              "      <td>1037</td>\n",
              "      <td>1044</td>\n",
              "      <td>1039</td>\n",
              "      <td>1043</td>\n",
              "      <td>1040</td>\n",
              "      <td>1034</td>\n",
              "      <td>1042</td>\n",
              "      <td>1042</td>\n",
              "      <td>1034</td>\n",
              "      <td>1033</td>\n",
              "      <td>1032</td>\n",
              "      <td>1031</td>\n",
              "      <td>1036</td>\n",
              "      <td>1033</td>\n",
              "      <td>1039</td>\n",
              "      <td>1038</td>\n",
              "      <td>1042</td>\n",
              "      <td>1041</td>\n",
              "      <td>1029</td>\n",
              "      <td>1047</td>\n",
              "      <td>1036</td>\n",
              "      <td>1035</td>\n",
              "      <td>1038</td>\n",
              "      <td>1036</td>\n",
              "      <td>1027</td>\n",
              "      <td>1029</td>\n",
              "      <td>1031</td>\n",
              "      <td>1034</td>\n",
              "      <td>1035</td>\n",
              "      <td>1030</td>\n",
              "      <td>1034</td>\n",
              "      <td>1029</td>\n",
              "      <td>1030</td>\n",
              "      <td>1031</td>\n",
              "      <td>1028</td>\n",
              "    </tr>\n",
              "  </tbody>\n",
              "</table>\n",
              "<p>3 rows × 252 columns</p>\n",
              "</div>"
            ],
            "text/plain": [
              "  Unnamed: 0  Unnamed: 1     0   240   480  ...  58800  59040  59280  59520  59760\n",
              "0          A          10  1008  1566  2465  ...  14162  14200  14214  14257  14218\n",
              "1          A          11  1165  1161  1137  ...    839    837    845    838    834\n",
              "2          A          12   756   819   896  ...   1034   1029   1030   1031   1028\n",
              "\n",
              "[3 rows x 252 columns]"
            ]
          },
          "metadata": {
            "tags": []
          },
          "execution_count": 3
        }
      ]
    },
    {
      "cell_type": "code",
      "metadata": {
        "id": "B9yxFQGxjQ9a"
      },
      "source": [
        "dimensions=(8,8)\n",
        "time=[t for t in df][2:]\n",
        "arr=df.to_numpy()\n",
        "arr=arr.reshape(15,15,252)\n",
        "filled=np.ones((8,8,250),dtype=object)\n",
        "well_names=np.empty((8,8,2),dtype=object)\n",
        "for i in range(8): \n",
        "  for j in range(8):\n",
        "    for k in range (250): \n",
        "      filled[i,j,k]=arr[i*2,j*2,k+2]\n",
        "    well_names[i,j]=arr[i*2,j*2,:2]"
      ],
      "execution_count": 4,
      "outputs": []
    },
    {
      "cell_type": "markdown",
      "metadata": {
        "id": "mOlBLbJfcgzj"
      },
      "source": [
        "#Functions for processing data (plot, slopes etc.)"
      ]
    },
    {
      "cell_type": "code",
      "metadata": {
        "id": "lzN9zdtroQhm"
      },
      "source": [
        "\n",
        "def plot_all_wells(data:list,names,title:str,size=(30,20),hspace=.3):\n",
        "  fig, ax = plt.subplots(dimensions[0],dimensions[1],figsize=size)\n",
        "  fig.suptitle(title,fontsize=35)\n",
        "\n",
        "  for tup in data:\n",
        "    time,array=tup\n",
        "    array=np.array(array)\n",
        "    for i in range(dimensions[0]):\n",
        "      for j in range (dimensions[1]):\n",
        "        ax[i,j].plot(time,array[i,j,:])\n",
        "        ax[i,j].set_title(f'{names[i,j,0]}{names[i,j,1]}')\n",
        "  plt.subplots_adjust(hspace=hspace)\n",
        "  #plt.show()\n",
        "  save_plot_to_file(title)\n",
        "\n",
        "def plot_one_well():\n",
        "  i=1\n",
        "#first derivative\n",
        "#slope fitting function\n",
        "\n",
        "def fit_line_to_range(array,fitting_range):\n",
        "  slopes=np.ones(dimensions)\n",
        "  intercepts=np.ones(dimensions)\n",
        "  for i in range(dimensions[0]):\n",
        "    for j in range(dimensions[1]):\n",
        "      slopes[i,j]=linregress(time[:fitting_range],array[i,j,:fitting_range])[0]#slope\n",
        "      intercepts[i,j]=linregress(time[:fitting_range],array[i,j,:fitting_range])[1]\n",
        "  return np.array(slopes),np.array(intercepts)\n",
        "\n",
        "def save_plot_to_file(title):\n",
        "  plt.savefig(f'/content/drive/My Drive/Thesis/201008-ZM-IVT-iter1/201008-ZM-IVT-iter1-{title}.png')\n",
        "\n",
        "def save_model_to_file(model,title):\n",
        "  def myprint(s):\n",
        "    with open(f'/content/drive/My Drive/Thesis/201008-ZM-IVT-iter1/201008-ZM-IVT-iter1-{title}.txt','w+') as f:\n",
        "        print(s, file=f)\n",
        "  model.summary(print_fn=myprint)\n",
        "\n",
        "def saving_path(title,extension):\n",
        "  string=f'/content/drive/My Drive/Thesis/201008-ZM-IVT-iter1/201008-ZM-IVT-iter1-{title}.{extension}'\n",
        "  return string"
      ],
      "execution_count": 5,
      "outputs": []
    },
    {
      "cell_type": "markdown",
      "metadata": {
        "id": "IC997tSVoyOd"
      },
      "source": [
        "###smoothed data"
      ]
    },
    {
      "cell_type": "code",
      "metadata": {
        "id": "kHxNqi-KlYH8"
      },
      "source": [
        "smoothed=savgol_filter(filled,9,1)\n",
        "plot_all_wells([(time,smoothed)],well_names,'Smoothed intensity')"
      ],
      "execution_count": null,
      "outputs": []
    },
    {
      "cell_type": "markdown",
      "metadata": {
        "id": "XQpia_WznN3c"
      },
      "source": [
        "#Plot well plate"
      ]
    },
    {
      "cell_type": "code",
      "metadata": {
        "id": "Q26XZ6j1fxls"
      },
      "source": [
        "plot_all_wells([(time,filled)],well_names,'Plate View')"
      ],
      "execution_count": null,
      "outputs": []
    },
    {
      "cell_type": "markdown",
      "metadata": {
        "id": "uBYL8sF6C07h"
      },
      "source": [
        "#Labeling (fit)"
      ]
    },
    {
      "cell_type": "markdown",
      "metadata": {
        "id": "-S9tv-s3PuMf"
      },
      "source": [
        "###trying gradient method"
      ]
    },
    {
      "cell_type": "code",
      "metadata": {
        "id": "fSKePEjUebYi"
      },
      "source": [
        "gradients=np.gradient(smoothed,axis=-1,edge_order=2)\n",
        "plot_all_wells([(time,gradients)],well_names,'gradients')\n",
        "max_rates_indices=np.argmax(gradients,axis=-1)\n",
        "max_rates=np.ones((8,8))\n",
        "for i in range(dimensions[0]):\n",
        "  for j in range(dimensions[1]):\n",
        "    max_rates[i,j]=gradients[i,j,max_rates_indices[i,j]]"
      ],
      "execution_count": null,
      "outputs": []
    },
    {
      "cell_type": "code",
      "metadata": {
        "id": "4X-N0_t9Tdek"
      },
      "source": [
        "print(max_rates)\n",
        "print(max_rates_indices)"
      ],
      "execution_count": null,
      "outputs": []
    },
    {
      "cell_type": "code",
      "metadata": {
        "id": "_68kA7NY4uby"
      },
      "source": [
        "initial_rate=np.mean(gradients[:,:,:5],axis=2)\n",
        "initial_rate"
      ],
      "execution_count": null,
      "outputs": []
    },
    {
      "cell_type": "markdown",
      "metadata": {
        "id": "LPLH9vmdOXwh"
      },
      "source": [
        "###Going back to initial rates\n",
        "\n",
        "I decided to go beck to just fitting a line to the very beginning."
      ]
    },
    {
      "cell_type": "code",
      "metadata": {
        "id": "KqNAL7ZCObl8"
      },
      "source": [
        "slopes,intercepts=fit_line_to_range(smoothed,10)\n",
        "fits=[[[intercepts[i,j],(slopes[i,j]*10*180 + intercepts[i,j])]for j in range(8)]for i in range(8)]\n",
        "plot_all_wells([(time,filled),([0,10*180],fits)],well_names,'fitted')"
      ],
      "execution_count": null,
      "outputs": []
    },
    {
      "cell_type": "code",
      "metadata": {
        "id": "sC2AUW-PUInl"
      },
      "source": [
        "slopes.shape"
      ],
      "execution_count": null,
      "outputs": []
    },
    {
      "cell_type": "code",
      "metadata": {
        "id": "LV7Jt-bMGy7h"
      },
      "source": [
        "\n",
        "normalized_slopes=( slopes-slopes.min() )/(slopes.max()-slopes.min())\n",
        "print(normalized_slopes)\n",
        "print(normalized_slopes.mean(),normalized_slopes.max(),normalized_slopes.min())\n",
        "\n",
        "def back_normalization_slopes(label):\n",
        "  return (label *  (slopes.max()-slopes.min()) )+slopes.min()"
      ],
      "execution_count": null,
      "outputs": []
    },
    {
      "cell_type": "markdown",
      "metadata": {
        "id": "zK23M6u4D4x9"
      },
      "source": [
        "#building data set"
      ]
    },
    {
      "cell_type": "markdown",
      "metadata": {
        "id": "XK8pS0rCDJhV"
      },
      "source": [
        "##Protocol to Inputs"
      ]
    },
    {
      "cell_type": "code",
      "metadata": {
        "id": "ntnk_1h-1y3a"
      },
      "source": [
        "\n",
        "scanning_profile=OrderedDict({'t3r5':(100,0.5),'template':(50,0.5),'mgcl2':(20,0.5),'rntp':(5,0.5)})\n",
        "grid_profile_keys=[[1,2,1,2],[1,2,2,-1],[1,2,-1,-2],[1,2,-2,1]]\n",
        "\n",
        "##function to turn profile keys to concentrations in 8*8\n",
        "\n",
        "def fill_a_block(direction,initial_concentration,dilution_coefficient,n_wells_in_block=4,real_concentrations=False):\n",
        "  if real_concentrations:\n",
        "    diluted_concentraitions=dilution_concentraitions(initial_concentration,dilution_coefficient,n_wells_in_block)\n",
        "  else:\n",
        "    diluted_concentraitions=dilution_concentraitions(1,dilution_coefficient,n_wells_in_block) #fix for next iteration\n",
        "\n",
        "  if direction<0:\n",
        "    diluted_concentraitions.reverse()\n",
        "  direction=abs(direction)\n",
        "  block=np.stack([diluted_concentraitions]*n_wells_in_block,axis=direction-1)\n",
        "  return block\n",
        "\n",
        "\n",
        "def dilution_concentraitions(initial_concentration,dilution_coefficient,number_of_wells=4):\n",
        "  concentrations=[]\n",
        "  c=initial_concentration\n",
        "  for i in range(number_of_wells):\n",
        "    concentrations.append(c)\n",
        "    c=c*dilution_coefficient\n",
        "  return concentrations\n",
        "\n",
        "def build_grid_out_of_blocks(block1,block2,block3,block4):\n",
        "  l1=np.concatenate((block1,block2),axis=1)\n",
        "  l2=np.concatenate((block3,block4),axis=1)\n",
        "  return np.concatenate((l1,l2),axis=0)\n",
        "  #this only works with 4 blocks. I don't know how we want to represent more number of blocks. Update in future cases.\n",
        "\n",
        "def grid_profile_to_concentration(scanning_profile,grid_profile_keys,real_concentrations=False):\n",
        "  number_of_elements=len(scanning_profile)\n",
        "  number_of_blocks=len(grid_profile_keys)\n",
        "  concentrations=OrderedDict({})\n",
        "  for i,material in enumerate(scanning_profile):\n",
        "    blocks=[]\n",
        "    for b in range (number_of_blocks):\n",
        "      direction=grid_profile_keys[b][i]\n",
        "      block=fill_a_block(direction,scanning_profile[material][0],scanning_profile[material][1],real_concentrations=real_concentrations)\n",
        "      blocks.append(block)\n",
        "    concentrations[material]=build_grid_out_of_blocks(blocks[0],blocks[1],blocks[2],blocks[3])\n",
        "\n",
        "  return concentrations\n",
        "\n",
        "scanning_concentrations=grid_profile_to_concentration(scanning_profile,grid_profile_keys)\n",
        "for element in scanning_concentrations:\n",
        "  print(element,'\\n',scanning_concentrations[element])\n",
        "  print(scanning_concentrations[element].shape)\n",
        "  scanning_concentrations[element]=scanning_concentrations[element].flatten()\n",
        "  print(scanning_concentrations[element].shape)\n"
      ],
      "execution_count": null,
      "outputs": []
    },
    {
      "cell_type": "markdown",
      "metadata": {
        "id": "ZZBUXLykNEC2"
      },
      "source": [
        "##checking the distribution"
      ]
    },
    {
      "cell_type": "code",
      "metadata": {
        "id": "xNL58uO4NfPF"
      },
      "source": [
        "for element in scanning_concentrations:\n",
        "  histogram,bins=np.histogram(scanning_concentrations[element])\n",
        "  #print(histogram.shape,bins.shape)\n",
        "  plt.plot(bins[1:],histogram)\n",
        "  plt.title(element)\n",
        "  plt.savefig(saving_path(f'distribution-{element}','jpg'))"
      ],
      "execution_count": null,
      "outputs": []
    },
    {
      "cell_type": "markdown",
      "metadata": {
        "id": "nMSECOajEBJn"
      },
      "source": [
        "##building dataset (connecting inputs and output)"
      ]
    },
    {
      "cell_type": "code",
      "metadata": {
        "id": "nj_MzJlL6Prc"
      },
      "source": [
        "#How do I want my dataset to look like? 64 flattened wells, containing 4 infos each\n",
        "dataset_size=dimensions[0]*dimensions[1]\n",
        "dataset_x=np.array([[scanning_concentrations[element][i] for element in scanning_concentrations] for i in range(dataset_size)])\n",
        "dataset_y=normalized_slopes.flatten()"
      ],
      "execution_count": null,
      "outputs": []
    },
    {
      "cell_type": "code",
      "metadata": {
        "id": "ksRCNcKgCEbK"
      },
      "source": [
        "print(dataset_x.shape)\n",
        "print(dataset_x[0],dataset_x[63])\n",
        "print(dataset_y.shape)"
      ],
      "execution_count": null,
      "outputs": []
    },
    {
      "cell_type": "markdown",
      "metadata": {
        "id": "c6JV5BuNB35V"
      },
      "source": [
        "#Training a NN model"
      ]
    },
    {
      "cell_type": "code",
      "metadata": {
        "id": "I3ONcqUSQ8lf"
      },
      "source": [
        "'''\n",
        "dataset_y=normalized_slopes.flatten()\n",
        "dataset_x=np.array([[scanning_concentrations[element][i] for element in scanning_concentrations] for i in range(dataset_size)])\n",
        "\n",
        "dataset_y=tf.make_ndarray(tf.random.shuffle(dataset_y,seed=100))\n",
        "dataset_x=tf.make_ndarray(tf.random.shuffle(dataset_x,seed=100))\n",
        "'''"
      ],
      "execution_count": null,
      "outputs": []
    },
    {
      "cell_type": "code",
      "metadata": {
        "id": "lk1hDgyYmmbW"
      },
      "source": [
        "x_train,x_test,y_train,y_test = train_test_split(dataset_x,dataset_y,test_size=0.1,random_state=100)"
      ],
      "execution_count": null,
      "outputs": []
    },
    {
      "cell_type": "code",
      "metadata": {
        "id": "ZoB7sszlYHr2"
      },
      "source": [
        "print(x_train.shape,x_test.shape,y_train.shape,y_test.shape)"
      ],
      "execution_count": null,
      "outputs": []
    },
    {
      "cell_type": "code",
      "metadata": {
        "id": "fZTYxLnxrY5x"
      },
      "source": [
        "print(x_train[0])"
      ],
      "execution_count": null,
      "outputs": []
    },
    {
      "cell_type": "markdown",
      "metadata": {
        "id": "4iyMf__-q2s3"
      },
      "source": [
        "model description"
      ]
    },
    {
      "cell_type": "code",
      "metadata": {
        "id": "r17U-mw7Yvb6"
      },
      "source": [
        "iter1_model = Sequential([\n",
        "                    Dense(10,activation='relu', input_shape=(4,),name='layer1')])\n",
        "#iter1_model.add(LeakyReLU(alpha=0.01))\n",
        "iter1_model.add(Dense(4,activation='relu',name='layer2'))\n",
        "#iter1_model.add(Dense(4,activation='relu',name='layer3'))\n",
        "iter1_model.add(Dense(1,activation='relu',name='output'))"
      ],
      "execution_count": null,
      "outputs": []
    },
    {
      "cell_type": "markdown",
      "metadata": {
        "id": "5r_zmnskq7ga"
      },
      "source": [
        "compilation"
      ]
    },
    {
      "cell_type": "code",
      "metadata": {
        "id": "3yRcHCK5ccch"
      },
      "source": [
        "iter1_model.compile(\n",
        "    optimizer='adam',\n",
        "    loss='MeanSquaredError', #MeanSquaredLogarithmicError\n",
        ")\n",
        "\n",
        "iter1_model.summary()"
      ],
      "execution_count": null,
      "outputs": []
    },
    {
      "cell_type": "markdown",
      "metadata": {
        "id": "jJGtq2-bq-bU"
      },
      "source": [
        "training"
      ]
    },
    {
      "cell_type": "code",
      "metadata": {
        "id": "9CbADfbzptQ9"
      },
      "source": [
        "iter1_history=iter1_model.fit(x_train,y_train,batch_size=5,epochs=100)\n",
        "loss_history=iter1_history.history['loss']"
      ],
      "execution_count": null,
      "outputs": []
    },
    {
      "cell_type": "markdown",
      "metadata": {
        "id": "UUh2m752sfo3"
      },
      "source": [
        "evaluate"
      ]
    },
    {
      "cell_type": "code",
      "metadata": {
        "id": "GjNAxM6kl30x"
      },
      "source": [
        ""
      ],
      "execution_count": null,
      "outputs": []
    },
    {
      "cell_type": "code",
      "metadata": {
        "id": "gBtDfmonrT4j"
      },
      "source": [
        "loss=iter1_model.evaluate(x_test,y_test)\n",
        "print(loss)"
      ],
      "execution_count": null,
      "outputs": []
    },
    {
      "cell_type": "code",
      "metadata": {
        "id": "TeMT1is7rItU"
      },
      "source": [
        "print(iter1_model.predict([[1,1,1,1]]))"
      ],
      "execution_count": null,
      "outputs": []
    },
    {
      "cell_type": "markdown",
      "metadata": {
        "id": "ygIG9dHLSSkr"
      },
      "source": [
        "###plotting loss history"
      ]
    },
    {
      "cell_type": "code",
      "metadata": {
        "id": "iNFbCLc3SX1G"
      },
      "source": [
        "epochs=np.arange(1,101)\n",
        "plt.scatter(x=epochs,y=loss_history)\n",
        "plt.show()\n",
        "save_plot_to_file('Learning_Curve'+str(tm.time()))\n",
        "save_model_to_file(iter1_model,'NN_model'+str(tm.time()))"
      ],
      "execution_count": null,
      "outputs": []
    },
    {
      "cell_type": "markdown",
      "metadata": {
        "id": "AQZyf6J31ad5"
      },
      "source": [
        "#Using the trained model to find the maximum Yield"
      ]
    },
    {
      "cell_type": "code",
      "metadata": {
        "id": "D17mDi-G1rQ0"
      },
      "source": [
        "def generate_random_grid(n_scanning_parameters,n_points_each_dimension):\n",
        "  points=np.linspace(1,0,num=n_points_each_dimension)\n",
        "  x_points=[points for dimension in range(n_scanning_parameters)]\n",
        "  mesh=np.array(np.meshgrid(*x_points))\n",
        "  return mesh\n",
        "\n",
        "def predict_grid(mesh,model):\n",
        "  mesh=mesh.T\n",
        "  points=np.array( [mesh[index].T for index in np.ndindex(*mesh.shape[1:])] )\n",
        "  preds=model.predict(points)\n",
        "  return points,preds\n",
        "\n",
        "def find_max(mesh,model):\n",
        "  points,preds=predict_grid(mesh,model)\n",
        "  max_array_index=np.argmax(preds)\n",
        "  max=preds[max_array_index]\n",
        "  max_index=points[max_array_index]\n",
        "  return max,max_index"
      ],
      "execution_count": null,
      "outputs": []
    },
    {
      "cell_type": "code",
      "metadata": {
        "id": "X6-rO0dPBPJX"
      },
      "source": [
        "grid=generate_random_grid(4,100)\n",
        "print(grid.shape)\n",
        "max,max_index=find_max(grid,iter1_model)\n",
        "print(max,max_index)"
      ],
      "execution_count": null,
      "outputs": []
    },
    {
      "cell_type": "code",
      "metadata": {
        "id": "uJZs0rxRBojo"
      },
      "source": [
        "print(max,max_index)"
      ],
      "execution_count": null,
      "outputs": []
    },
    {
      "cell_type": "markdown",
      "metadata": {
        "id": "-oP6mwvg1k08"
      },
      "source": [
        "# Producing next protocol closer to minima"
      ]
    },
    {
      "cell_type": "markdown",
      "metadata": {
        "id": "E0o3gX04GCbT"
      },
      "source": [
        ""
      ]
    },
    {
      "cell_type": "code",
      "metadata": {
        "id": "ypF1c-aZ9FF3"
      },
      "source": [
        "a=np.empty((4,10,11,12))\n",
        "print(a.shape)\n",
        "print(a.T.shape)"
      ],
      "execution_count": null,
      "outputs": []
    },
    {
      "cell_type": "code",
      "metadata": {
        "id": "jT83tYzUJx5q"
      },
      "source": [
        ""
      ],
      "execution_count": null,
      "outputs": []
    }
  ]
}