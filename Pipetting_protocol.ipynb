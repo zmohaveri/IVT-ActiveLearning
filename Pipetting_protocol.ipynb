{
  "nbformat": 4,
  "nbformat_minor": 0,
  "metadata": {
    "colab": {
      "name": "Pipetting protocol.ipynb",
      "provenance": [],
      "mount_file_id": "1hMlY4WVO3wI6-ultI3_AbAQejIRK6PFo",
      "authorship_tag": "ABX9TyPJ13RJOFGzem5zjMJJ5iRl",
      "include_colab_link": true
    },
    "kernelspec": {
      "name": "python3",
      "display_name": "Python 3"
    }
  },
  "cells": [
    {
      "cell_type": "markdown",
      "metadata": {
        "id": "view-in-github",
        "colab_type": "text"
      },
      "source": [
        "<a href=\"https://colab.research.google.com/github/zmohaveri/IVT-ActiveLearning/blob/main/Pipetting_protocol.ipynb\" target=\"_parent\"><img src=\"https://colab.research.google.com/assets/colab-badge.svg\" alt=\"Open In Colab\"/></a>"
      ]
    },
    {
      "cell_type": "code",
      "metadata": {
        "id": "6AH7HiJ6caL1",
        "outputId": "453d26cb-95de-4b58-a9b5-42063b03955f",
        "colab": {
          "base_uri": "https://localhost:8080/",
          "height": 52
        }
      },
      "source": [
        "import numpy as np\n",
        "import seaborn as sns\n",
        "from matplotlib import pyplot as plt\n",
        "from typing import List\n",
        "from warnings import warn\n",
        "from numbers import Real\n",
        "from enum import Enum\n",
        "from collections import OrderedDict \n",
        "import time as tm\n",
        "#All volumes are in ul\n",
        "#All concentrations are in uM\n",
        "\n",
        "path='/content/drive/My Drive/Thesis'\n",
        "\n",
        "protocol=\"\"\n",
        "to_match=4\n",
        "%pprint\n",
        "%precision 2"
      ],
      "execution_count": 69,
      "outputs": [
        {
          "output_type": "stream",
          "text": [
            "Pretty printing has been turned ON\n"
          ],
          "name": "stdout"
        },
        {
          "output_type": "execute_result",
          "data": {
            "application/vnd.google.colaboratory.intrinsic+json": {
              "type": "string"
            },
            "text/plain": [
              "'%.2f'"
            ]
          },
          "metadata": {
            "tags": []
          },
          "execution_count": 69
        }
      ]
    },
    {
      "cell_type": "markdown",
      "metadata": {
        "id": "IPl1aCaXc96I"
      },
      "source": [
        "#Classes"
      ]
    },
    {
      "cell_type": "code",
      "metadata": {
        "id": "QwSEwqHTcks-"
      },
      "source": [
        "class Location(object):\n",
        "  def __init__(self,name,location):\n",
        "    self.name=name\n",
        "    self.location=location\n",
        "  def __str__():\n",
        "    return self.name\n",
        "  def __repr__():\n",
        "    return self.name\n",
        "\n",
        "unbound=Location('unbound location',None)\n",
        "\n",
        "class Solution(object):\n",
        "  def __init__(self,name:str,location:Location=None,viscous=False,info:str=None):\n",
        "    self.name=name\n",
        "    self.location=location\n",
        "    self.viscous=viscous\n",
        "    self.info=info\n",
        "  def __str__(self):\n",
        "    return self.name\n",
        "  def __repr__(self):\n",
        "    return self.name\n",
        "  def __hash__(self):\n",
        "    return str.__hash__(self.name)\n",
        "\n",
        "global water \n",
        "water = Solution('water')\n",
        "\n",
        "class Material(object):\n",
        "  def __init__(self,name:str,material_type:str,stock_concentration:float,solution=water,buffer_info=None,location:Location=None,viscous=False,info:str=None):\n",
        "    self.material_type=material_type \n",
        "    self.name=name\n",
        "    self.viscous=viscous\n",
        "    self.info=info\n",
        "    self.location=location\n",
        "    if material_type=='element' or material_type=='buffer':\n",
        "      self.stock_concentration=stock_concentration\n",
        "      #self.ratio=sample_concentration/stock_concentration #dilution ratio from stock to the final sample.\n",
        "      if material_type=='element':\n",
        "        self.buffer_info=buffer_info\n",
        "        #if isinstance(self.buffer_info,BufferInfo): self.buffer_info=[buffer_info]\n",
        "        self.solution=solution\n",
        "  def __str__(self):\n",
        "    return self.name\n",
        "  def __repr__(self):\n",
        "    return self.name\n",
        "\n",
        "  def __add__(self,other):\n",
        "    sum=Material(self.name,self.material_type,1,self.viscous)\n",
        "    sum.name=f'{self.name}-{other.name}'\n",
        "    sum.material_type='mixed'\n",
        "    sum.viscous=self.viscous or other.viscous\n",
        "    sum.info=self.info + other.info\n",
        "    return sum\n",
        "\n",
        "  def concentraionToVolume(self,final_concentration,final_volume):\n",
        "    #c1.v1=c2.v2\n",
        "    v1=final_concentration*final_volume/(self.stock_concentration)\n",
        "    return v1\n",
        "\n",
        "\n",
        "def concentraionToVolume(material,final_concentration,final_volume):\n",
        "  #c1.v1=c2.v2\n",
        "  v1=final_concentration*final_volume/(material.stock_concentration)\n",
        "  return v1\n",
        "\n",
        "\n",
        "class BufferInfo(object):\n",
        "  def __init__(self,buffer:Material,buffer_final_concentration):\n",
        "    self.buffer=buffer\n",
        "    self.buffer_final_concentration=buffer_final_concentration\n",
        "    self.buffer_initial_concentration=buffer.stock_concentration\n",
        "    self.ratio=self.buffer_final_concentration/self.buffer_initial_concentration\n",
        "  def __add__(self,buffer_info2):\n",
        "    if not (isinstance(buffer_info2,BufferInfo) or isinstance(buffer_info2,list)): \n",
        "      raise TypeError('Only objects of type BufferInfo can be added together')\n",
        "    if not isinstance(buffer_info2,list): buffer_info2=[buffer_info2]\n",
        "    return removeDuplicate(buffer_info2+[self])\n",
        "  def __radd__(self,buffer_info2):\n",
        "    if not (isinstance(buffer_info2,BufferInfo) or isinstance(buffer_info2,list)): \n",
        "      raise TypeError('Only objects of type BufferInfo can be added together')\n",
        "    if not isinstance(buffer_info2,list): buffer_info2=[buffer_info2]\n",
        "    return removeDuplicate(buffer_info2+[self])\n",
        "  def __eq__(self,other):\n",
        "    for attr in self.__dict__:\n",
        "      if getattr(self,attr)!=getattr(other,attr): return False\n",
        "      return True\n",
        "  def __hash__(self):\n",
        "    return str.__hash__(self.buffer.name+str(self.buffer_final_concentration))\n",
        "\n",
        "class PipettingComponent(object):\n",
        "  def __init__(self,material:Material,volume:float):\n",
        "    self.material=material\n",
        "    self.volume=volume\n",
        "  def __mul__(self,other):\n",
        "    if not isinstance(other,Real): raise TypeError\n",
        "    return PipettingComponent(self.material,self.volume*other)\n",
        "  def __rmul__(self,other):\n",
        "    if not isinstance(other,Real): raise TypeError\n",
        "    return PipettingComponent(self.material,self.volume*other)\n",
        "  def __add__(self,other):\n",
        "    if not isinstance(other,PipettingComponent): raise TypeError\n",
        "    volume=self.volume+other.volume\n",
        "    if self.name==other.name:\n",
        "      material=self.material\n",
        "      addToProtocol('****this****')\n",
        "    else:\n",
        "      material=Material(self.name+other.name,self.ratio+other.ratio,viscous=self.viscous or other.viscous)\n",
        "    return PipettingComponent(material,volume)\n",
        "  def __radd__(self,other):\n",
        "    if not isinstance(other,PipettingComponent): raise TypeError\n",
        "    volume=self.volume+other.volume\n",
        "    if self.name==other.name:\n",
        "      material=self.material\n",
        "    else:\n",
        "      material=Material(self.name+other.name,self.ratio+other.ratio,viscous=self.viscous or other.viscous)\n",
        "    return PipettingComponent(material,volume)\n",
        "  def __repr__(self):\n",
        "    return f\"{self.volume:.2f}:{self.material.name}\"\n",
        "  def __str__(self):\n",
        "    return f\"{self.volume:.2f}:{self.material.name}\"\n",
        "\n",
        "def sumUpDuplicatePipettingComponents(l):\n",
        "  for i in range(len(l)):\n",
        "    sum=l[i]\n",
        "    for j in range(len(l)-1,i,-1):\n",
        "      print(l[i],l[j],sum)\n",
        "      if l[i].material.name==l[j].material.name: \n",
        "        sum+=l[j] \n",
        "        del(l[j])\n",
        "    l[i]=sum\n",
        "  return l\n",
        "\n",
        "class DilutionProfile_single(object):\n",
        "  def __init__(self,sample_to_scan_ratio,total_volume,material:Material,dilution_coefficient,highest_concentration):\n",
        "    self.total_volume=total_volume\n",
        "    self.material=material\n",
        "    self.dilution_coefficient=dilution_coefficient\n",
        "    self.first_well_concentration=highest_concentration\n",
        "    self.highest_concentration=highest_concentration\n",
        "    self.buffer_info=material.buffer_info\n",
        "    \n",
        "\n",
        "    self.transfer_volume=self.dilution_coefficient * self.total_volume /(1-self.dilution_coefficient)\n",
        "\n",
        "    self.first_well_volume=self.transfer_volume+self.total_volume\n",
        "    self.dilution_stock=self.first_well_concentration*sample_to_scan_ratio\n",
        "    self.element_volume=self.dilution_stock*self.first_well_volume/material.stock_concentration\n",
        "    self.first_well_buffer_volume=concentraionToVolume(self.buffer_info.buffer,self.buffer_info.buffer_final_concentration,self.first_well_volume) if self.buffer_info else 0\n",
        "    self.first_well_water_volume=self.first_well_volume - self.element_volume - self.first_well_buffer_volume\n",
        "\n",
        "    self.next_wells_buffer_volume= concentraionToVolume(self.buffer_info.buffer,self.buffer_info.buffer_final_concentration,self.total_volume) if self.buffer_info else 0\n",
        "    self.next_wells_solution_volume= self.element_volume*self.transfer_volume/self.first_well_volume if material.solution.name!='water' else 0\n",
        "    self.next_wells_water_volume=self.total_volume - self.next_wells_solution_volume - self.next_wells_buffer_volume\n",
        "\n",
        "    \n",
        "    self.buffer_pipetting_component_first_well=[PipettingComponent(self.buffer_info.buffer,self.first_well_buffer_volume)] if self.buffer_info else []\n",
        "    self.buffer_pipetting_component_next_wells=[PipettingComponent(self.buffer_info.buffer,self.next_wells_buffer_volume)] if self.buffer_info else []\n",
        "\n",
        "    self.solution_pipetting_component=[PipettingComponent(material.solution,self.next_wells_solution_volume)] if material.solution.name!='water' else []"
      ],
      "execution_count": 83,
      "outputs": []
    },
    {
      "cell_type": "markdown",
      "metadata": {
        "id": "J5lrdfsV7enp"
      },
      "source": [
        "#Basic Functions"
      ]
    },
    {
      "cell_type": "code",
      "metadata": {
        "id": "gP8UmRdK7oA5"
      },
      "source": [
        "protocol=\"\"\n",
        "\n",
        "def addToProtocol(*lines):\n",
        "  global protocol\n",
        "  for line in lines:\n",
        "    protocol+=line+'\\n'\n",
        "\n",
        "def transfer(material:Material,volume,destination:Location,mix_after=(),viscous=False,multiply=1,return_str=False):\n",
        "  volume=volume*multiply\n",
        "  volume=round(volume,2)\n",
        "  message=f'transfer {volume}ul {material} {destination} {\"**mix: \"+str(mix_after)+\"**\" if mix_after else \"\"}'\n",
        "  if return_str: return message+'\\n'\n",
        "  addToProtocol(message)\n",
        "\n",
        "def distribute(volume:float,source:Material,destinations,viscous=False):\n",
        "  volume=round(volume,2)\n",
        "  addToProtocol(f'Distribute {volume}ul {source} to {destinations}')\n",
        "\n",
        "def dilution_serie(sample_to_scan_ratio,total_volume,number_of_dilution_wells:int,dilution_coefficient,materials:List[Material],highest_concentrations:List[float],location:Location=None,mark_as=\"\"):\n",
        "    addToProtocol(f'\\n~~Dilution Serie {materials} ~~')\n",
        "    dilution_profile = None\n",
        "    n_matrials = len(materials)\n",
        "    add_elements_to_first_well = ''\n",
        "    \n",
        "    for i,material in enumerate(materials):\n",
        "      dilution_profile_i = DilutionProfile_single(sample_to_scan_ratio,total_volume/n_matrials,material,dilution_coefficient,highest_concentrations[i])\n",
        "      add_elements_to_first_well += transfer(material,dilution_profile_i.element_volume,'first well',return_str=True)\n",
        "\n",
        "      if i==0: dilution_profile=dilution_profile_i\n",
        "      else:\n",
        "        #This is wrong because buffer combination ends up with less concentration. You should mix dilution profiles in initiation..\n",
        "        dilution_profile.transfer_volume += dilution_profile_i.transfer_volume\n",
        "        dilution_profile.first_well_water_volume += dilution_profile_i.first_well_water_volume\n",
        "        dilution_profile.next_wells_water_volume += dilution_profile_i.next_wells_water_volume\n",
        "        dilution_profile.buffer_pipetting_component_first_well = sumUpDuplicatePipettingComponents(dilution_profile.buffer_pipetting_component_first_well+[dilution_profile_i.buffer_pipetting_component_first_well])\n",
        "        dilution_profile.buffer_pipetting_component_next_wells = sumUpDuplicatePipettingComponents(dilution_profile.buffer_pipetting_component_next_wells+[dilution_profile_i.buffer_pipetting_component_next_wells])\n",
        "        dilution_profile.solution_pipetting_component = sumUpDuplicatePipettingComponents(dilution_profile.solution_pipetting_component+[dilution_profile_i.solution_pipetting_component])\n",
        "\n",
        "    #add to protocol\n",
        "    next_wells_buffer_solution = dilution_profile.buffer_pipetting_component_next_wells + dilution_profile.solution_pipetting_component\n",
        "    next_wells=PipettingComponent(water,dilution_profile.next_wells_water_volume)\n",
        "\n",
        "    if next_wells_buffer_solution:\n",
        "      times=(number_of_dilution_wells-1)*1.2\n",
        "      addToProtocol(f'In a larger eppi Mix {dilution_profile.next_wells_water_volume:.2f} Water')\n",
        "      for component in next_wells_buffer_solution: \n",
        "        addToProtocol(f'Mix {component*times}')\n",
        "        next_wells.volume += component.volume *times\n",
        "      next_wells.material='Mixture'\n",
        "    \n",
        "    distribute(next_wells.volume,next_wells.material,'all wells except first well')\n",
        "    \n",
        "    transfer(water,dilution_profile.first_well_water_volume,'first well')\n",
        "    for component in dilution_profile.buffer_pipetting_component_first_well:\n",
        "      transfer(component.material,component.volume,'first well')\n",
        "      addToProtocol('Mix')\n",
        "    addToProtocol(add_elements_to_first_well,f'dilution series with {dilution_profile.transfer_volume:.2f} transfer volume\\n~~~~~~~')\n"
      ],
      "execution_count": 89,
      "outputs": []
    },
    {
      "cell_type": "markdown",
      "metadata": {
        "id": "YAnnUOr2cecs"
      },
      "source": [
        "#Function to produce protocol"
      ]
    },
    {
      "cell_type": "code",
      "metadata": {
        "id": "17d38BGScirx"
      },
      "source": [
        "def Make_protocol(sample_volume,sample_composition,scanning_volume,size,scanning_profile,grid_profile_keys,title:str):\n",
        "  '''\n",
        "  size=8 means an 8 * 8 grid\n",
        "  '''\n",
        "  global protocol\n",
        "  protocol = \"\"\n",
        "  block_size = size/2\n",
        "  n_wells = size*size\n",
        "  n_wells_in_block = block_size*block_size\n",
        "\n",
        "  ##dilution series\n",
        "  times = n_wells/block_size * 1.2\n",
        "  for material in scanning_profile:\n",
        "    dilution_serie(sample_volume/scanning_volume, scanning_volume*times , block_size,scanning_profile[material][1],[material],[scanning_profile[material][0]])\n",
        "\n",
        "  ##Mastermix\n",
        "  addToProtocol('Master Mix:')\n",
        "  times = n_wells * 1.2\n",
        "  mastermix_elements = set(sample_composition)-set(scanning_profile)\n",
        "  mastermix_volume_each_sample = sample_volume - ( len(scanning_profile)* scanning_volume)\n",
        "  sum_volume = 0\n",
        "\n",
        "  for element in mastermix_elements:\n",
        "    volume = concentraionToVolume(element,sample_composition[element],sample_volume) * times\n",
        "    sum_volume += concentraionToVolume(element,sample_composition[element],sample_volume)\n",
        "    addToProtocol(f'Mix {volume}ul {element} in Mastermix')\n",
        "  water_in_mastermix= (mastermix_volume_each_sample - sum_volume) * times\n",
        "  addToProtocol(f'Mix {water_in_mastermix}ul water in Mastermix')\n",
        "  \n",
        "  addToProtocol(str(grid_profile_keys))\n",
        "\n",
        "  print(protocol)\n",
        "  with open(f'{path}/protocol-{title}-{tm.time()}.txt','w+') as file:\n",
        "    file.write(protocol)\n"
      ],
      "execution_count": 80,
      "outputs": []
    },
    {
      "cell_type": "markdown",
      "metadata": {
        "id": "7BmF9RB0faBo"
      },
      "source": [
        "#Materials, Sample info and protocol"
      ]
    },
    {
      "cell_type": "code",
      "metadata": {
        "id": "Rgqn0ZxMfZTN",
        "outputId": "17e93818-57ae-4a2b-ea2b-aa60458f3e9f",
        "colab": {
          "base_uri": "https://localhost:8080/",
          "height": 748
        }
      },
      "source": [
        "sample_volume=20\n",
        "\n",
        "dfhbi=Material('DFHBI','element',400,solution=water)\n",
        "neb=Material('NEB-buffer','buffer',10)\n",
        "#rnase_inhibitor=Material('Rnase_inhibitor','element',40,1)\n",
        "t3r5_solution=Solution('T3R5_solution',viscous=True)\n",
        "t3r5_buffer_info=BufferInfo(neb,1)\n",
        "t3r5=Material('T3R5','element',2055,solution=t3r5_solution,buffer_info=t3r5_buffer_info,viscous=True)\n",
        "template=Material('template','element',500,solution=water)\n",
        "mgcl2=Material('MgCl2','element',2000,solution=water)\n",
        "rntp=Material('rNTP-mix','element',25,solution=water)\n",
        "\n",
        "sample_composition={dfhbi:40,neb:1,t3r5:100,template:50,mgcl2:20,rntp:25}\n",
        "scanning_profile=OrderedDict({t3r5:(100,0.5),\n",
        "                               template:(50,0.5),\n",
        "                               mgcl2:(20,0.5),\n",
        "                               rntp:(5,0.5)})\n",
        "\n",
        "grid_profile_keys=[[1,2,1,2],[1,2,2,-1],[1,2,-1,-2],[1,2,-2,1]]\n",
        "\n",
        "Make_protocol(sample_volume,sample_composition,4,8,scanning_profile,grid_profile_keys,title='IVT-iter1')\n"
      ],
      "execution_count": 90,
      "outputs": [
        {
          "output_type": "stream",
          "text": [
            "\n",
            "~~Dilution Serie [T3R5] ~~\n",
            "In a larger eppi Mix 50.43 Water\n",
            "Mix 27.65:NEB-buffer\n",
            "Mix 67.27:T3R5_solution\n",
            "Distribute 145.35ul Mixture to all wells except first well\n",
            "transfer 100.87ul water first well \n",
            "transfer 15.36ul NEB-buffer first well \n",
            "Mix\n",
            "transfer 37.37ul T3R5 first well \n",
            "\n",
            "dilution series with 76.80 transfer volume\n",
            "~~~~~~~\n",
            "\n",
            "~~Dilution Serie [template] ~~\n",
            "Distribute 76.8ul water to all wells except first well\n",
            "transfer 76.8ul water first well \n",
            "transfer 76.8ul template first well \n",
            "\n",
            "dilution series with 76.80 transfer volume\n",
            "~~~~~~~\n",
            "\n",
            "~~Dilution Serie [MgCl2] ~~\n",
            "Distribute 76.8ul water to all wells except first well\n",
            "transfer 145.92ul water first well \n",
            "transfer 7.68ul MgCl2 first well \n",
            "\n",
            "dilution series with 76.80 transfer volume\n",
            "~~~~~~~\n",
            "\n",
            "~~Dilution Serie [rNTP-mix] ~~\n",
            "Distribute 76.8ul water to all wells except first well\n",
            "transfer 0.0ul water first well \n",
            "transfer 153.6ul rNTP-mix first well \n",
            "\n",
            "dilution series with 76.80 transfer volume\n",
            "~~~~~~~\n",
            "Master Mix:\n",
            "Mix 153.6ul NEB-buffer in Mastermix\n",
            "Mix 153.6ul DFHBI in Mastermix\n",
            "Mix 0.0ul water in Mastermix\n",
            "[[1, 2, 1, 2], [1, 2, 2, -1], [1, 2, -1, -2], [1, 2, -2, 1]]\n",
            "\n"
          ],
          "name": "stdout"
        }
      ]
    }
  ]
}