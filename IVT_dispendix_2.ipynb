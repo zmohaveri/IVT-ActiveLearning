{
  "nbformat": 4,
  "nbformat_minor": 0,
  "metadata": {
    "colab": {
      "name": "IVT-dispendix-2.ipynb",
      "provenance": [],
      "mount_file_id": "1K0GAzVy8YN2kUw1keasUtEbgnJaxWuYb",
      "authorship_tag": "ABX9TyNAWkkcNBi+FzPkpoA7gL2K",
      "include_colab_link": true
    },
    "kernelspec": {
      "name": "python3",
      "display_name": "Python 3"
    }
  },
  "cells": [
    {
      "cell_type": "markdown",
      "metadata": {
        "id": "view-in-github",
        "colab_type": "text"
      },
      "source": [
        "<a href=\"https://colab.research.google.com/github/zmohaveri/IVT-ActiveLearning/blob/main/IVT_dispendix_2.ipynb\" target=\"_parent\"><img src=\"https://colab.research.google.com/assets/colab-badge.svg\" alt=\"Open In Colab\"/></a>"
      ]
    },
    {
      "cell_type": "markdown",
      "metadata": {
        "id": "MVgQKW1jROW-"
      },
      "source": [
        "#imports"
      ]
    },
    {
      "cell_type": "code",
      "metadata": {
        "id": "CZvD4C7yQvET"
      },
      "source": [
        "import numpy as np\n",
        "from collections import OrderedDict \n",
        "import pandas as pd\n",
        "from shutil import copyfile\n",
        "from string import ascii_uppercase as alphabets\n",
        "import datetime as tm\n",
        "from math import ceil\n",
        "from itertools import combinations\n",
        "import matplotlib.pyplot as plt"
      ],
      "execution_count": null,
      "outputs": []
    },
    {
      "cell_type": "markdown",
      "metadata": {
        "id": "5Utep3G6RRm1"
      },
      "source": [
        "#Random samples"
      ]
    },
    {
      "cell_type": "markdown",
      "metadata": {
        "id": "Ub_STD_Fg_oH"
      },
      "source": [
        "##Making random points"
      ]
    },
    {
      "cell_type": "code",
      "metadata": {
        "id": "TOxP68oYR60c"
      },
      "source": [
        "def random_points_in_range(n,ranges):\n",
        "  points = np.empty((n,len(ranges)))\n",
        "  for i,element in enumerate(ranges):\n",
        "    start=min(element[1],element[0])\n",
        "    interval=abs(element[1]-element[0])\n",
        "    rand_check = np.random.rand(n)\n",
        "    randoms = ( rand_check*interval ) + start\n",
        "    points[:,i] = randoms.T  \n",
        "  return points"
      ],
      "execution_count": null,
      "outputs": []
    },
    {
      "cell_type": "markdown",
      "metadata": {
        "id": "QQNxMYJShCEz"
      },
      "source": [
        "##adding pipetting action for each point to a CSV"
      ]
    },
    {
      "cell_type": "code",
      "metadata": {
        "id": "0Yr7LiU-fyVu"
      },
      "source": [
        "def add_line_to_file(line,file_path,mode='a'):\n",
        "  with open(file_path,mode) as file:\n",
        "    file.write('\\n'+line)\n",
        "\n",
        "def concentration_to_volume(sample_volume,concentration,stock_concentration):\n",
        "  #c1.v1=c2.v2 => v1=c2.v2/c1\n",
        "  return concentration*sample_volume/stock_concentration\n",
        "\n",
        "def concentration_points_to_volumes(points,sample_volume,scanning_elements):\n",
        "  max_volume=0\n",
        "  volume_points=np.empty(points.shape)\n",
        "  sums=np.zeros(points.shape[1:])\n",
        "  for j,point in enumerate(points):\n",
        "    volume_point=np.empty(points.shape[1:])\n",
        "    for i,element in enumerate(scanning_elements):\n",
        "      volume= concentration_to_volume(sample_volume,point[i],scanning_elements[element][1])\n",
        "      sums[i] += volume\n",
        "      source=scanning_elements[element][0]\n",
        "      volume_point[i] = round(volume,2)\n",
        "    max_volume= max( np.sum(volume_point) , max_volume)\n",
        "    volume_points[j]=volume_point\n",
        "  return volume_points,max_volume,sums\n",
        "\n",
        "def add_dispense_to_file(volume_point,destination,fill_up_to,water_position,scanning_elements,file_path,extra=None):\n",
        "  for i,element in enumerate(scanning_elements):\n",
        "    #volume = concentration_to_volume(sample_volume,point[i],scanning_elements[element][1])\n",
        "    source = extra[element][0] if (extra and (element in extra) ) else scanning_elements[element][0]\n",
        "    add_line_to_file(f'{source},{destination},{volume_point[i]},{element}',file_path)\n",
        "  water_volume = fill_up_to - np.sum(volume_point)\n",
        "  water_volume = round(water_volume,2)\n",
        "  add_line_to_file(f'{water_position},{destination},{water_volume},Water',file_path)\n",
        "  return water_volume\n",
        "\n",
        "def collection_to_csv_keys(collection):\n",
        "  csv=''\n",
        "  for element in collection:\n",
        "    csv += f'{element},'\n",
        "  return csv\n",
        "\n",
        "def points_to_protocol(points,destination_wells,sample_volume,scanning_elements,water_positions,protocol_path,record_path,extra=None):\n",
        "  add_line_to_file(f'destinations,{collection_to_csv_keys(scanning_elements)}',record_path,mode='a')\n",
        "  volume_points, max_volume, sums = concentration_points_to_volumes(points,sample_volume,scanning_elements)\n",
        "  max_volume = ceil(max_volume)\n",
        "  sum_water = 0\n",
        "  total_number_points=points.shape[0]\n",
        "  number_of_waters = len(water_positions)\n",
        "  #max_volume=10 #decided to determine by hand to keep mastermix volume at 10 for hand pipetting reasons\n",
        "  for i,volum_point in enumerate(volume_points):\n",
        "    extra=None if i>(total_number_points/2) else extra\n",
        "    water_position = water_positions[i%number_of_waters]\n",
        "    sum_water += add_dispense_to_file(volum_point,destination_wells[i],max_volume,water_position,scanning_elements,protocol_path,extra)\n",
        "    add_line_to_file(f'{destination_wells[i]},{collection_to_csv_keys(points[i])}',record_path)\n",
        "  return max_volume,sums,sum_water\n",
        "\n",
        "def make_destination_wells(starting_number,finishing_number,starting_letter,finishing_letter):\n",
        "  destination_wells=[]\n",
        "  for letter in alphabets[alphabets.find(starting_letter):alphabets.find(finishing_letter)+1]:\n",
        "    for number in range(starting_number,finishing_number+1):\n",
        "      destination_wells.append(f'{letter}{number}')\n",
        "  return destination_wells\n"
      ],
      "execution_count": null,
      "outputs": []
    },
    {
      "cell_type": "code",
      "metadata": {
        "id": "bazqx6kcwTTt",
        "colab": {
          "base_uri": "https://localhost:8080/"
        },
        "outputId": "7fadf7fb-75d2-49f6-c9c5-54b32282df55"
      },
      "source": [
        "sample_volume=20\n",
        "\n",
        "label=f'Iter2-{tm.datetime.now()}-'\n",
        "path='/content/drive/MyDrive/Thesis/IVT/dispendix/iter2'\n",
        "empty_path = '/content/drive/MyDrive/Thesis/IVT/dispendix/iter1/CSV_empty_header.csv'\n",
        "protocol_path= path+f'/{label}protocol.csv'\n",
        "record_path= path+f'/{label}concentrations.csv'\n",
        "hand_Pipette_path= path+f'/{label}hand_Pipette.txt'\n",
        "copyfile(empty_path,protocol_path)\n",
        "\n",
        "scanning_elements = OrderedDict({'spermidine':('C5',250),'template':('D5',5000),'mgcl2':('E5',2000),'rntp':('G5',25)})\n",
        "scanning_elements2 = OrderedDict({'spermidine':('C5',250),'template':('D5',5000),'mgcl2':('F5',2000),'rntp':('H5',25)})\n",
        "extra1={'rntp':('A5',25)}\n",
        "extra2={'rntp':('B5',25)}\n",
        "water_positions = ['A4','B4','C4','D4','E4','F4','G4','H4']\n",
        "random_samples = random_points_in_range(96,[(0,5),(0,200),(0,200),(0,5)])\n",
        "destination_wells1 = make_destination_wells(13,24,'A','H')\n",
        "destination_wells2 = make_destination_wells(13,24,'I','P')#rep2\n",
        "points_to_protocol(random_samples,destination_wells1,sample_volume,scanning_elements,water_positions,protocol_path,record_path,extra1)\n",
        "max_volume,sums,sum_water=points_to_protocol(random_samples,destination_wells2,sample_volume,scanning_elements2,water_positions,protocol_path,record_path,extra2)\n",
        "print(max_volume)\n",
        "print(scanning_elements.keys(),sums*2)\n",
        "print(sum_water*2)\n",
        "print('rntp each',sums[-1]*2/4)"
      ],
      "execution_count": null,
      "outputs": [
        {
          "output_type": "stream",
          "text": [
            "7\n",
            "odict_keys(['spermidine', 'template', 'mgcl2', 'rntp']) [ 38.4258045   76.71752279 176.58278896 371.91641328]\n",
            "680.2600000000002\n",
            "rntp each 92.97910332055395\n"
          ],
          "name": "stdout"
        }
      ]
    },
    {
      "cell_type": "code",
      "metadata": {
        "colab": {
          "base_uri": "https://localhost:8080/"
        },
        "id": "68f3DYimv343",
        "outputId": "56c21b0b-499c-48e2-867f-85ea50f62c03"
      },
      "source": [
        "print(668/8)\n",
        "print(372/4)"
      ],
      "execution_count": null,
      "outputs": [
        {
          "output_type": "stream",
          "text": [
            "83.5\n",
            "93.0\n"
          ],
          "name": "stdout"
        }
      ]
    },
    {
      "cell_type": "markdown",
      "metadata": {
        "id": "78tJ7ZthY43U"
      },
      "source": [
        "iter1\n",
        "6\n",
        "odict_keys(['spermidine', 'template', 'mgcl2', 'rntp']) [ 80.87963055  65.15810612 129.06866217 389.93290955]\n",
        "487.0800000000002\n",
        "rntp each 97.48322738827794"
      ]
    },
    {
      "cell_type": "markdown",
      "metadata": {
        "id": "mSpSXeV10mJq"
      },
      "source": [
        "mastermix composition"
      ]
    },
    {
      "cell_type": "code",
      "metadata": {
        "id": "XCKjU8NG0lcY",
        "colab": {
          "base_uri": "https://localhost:8080/"
        },
        "outputId": "aef7d224-f6ac-4603-a05a-8a3144aee1f5"
      },
      "source": [
        "mastermix_in_sample = {'dfhbi':40,'tris_dtt':1,'t7':100}\n",
        "mastermix_stock = {'dfhbi':4000,'tris_dtt':10,'t7':12311}\n",
        "total_vol = 0\n",
        "number_of_wells=((96*2)+8)/2\n",
        "print(number_of_wells,'2X')\n",
        "add_line_to_file(f'{number_of_wells}-2X',hand_Pipette_path,mode='w')\n",
        "for element in mastermix_in_sample:\n",
        "  volume = concentration_to_volume(sample_volume,mastermix_in_sample[element],mastermix_stock[element])\n",
        "  total_vol += volume\n",
        "  print(f'{element}: {volume*number_of_wells}')\n",
        "  add_line_to_file(f'{element}: {volume*number_of_wells}',hand_Pipette_path,mode='w')\n",
        "print(total_vol*number_of_wells)\n",
        "mastermix_vol= sample_volume - max_volume\n",
        "water_volume= mastermix_vol - total_vol\n",
        "print(f'Water: {water_volume*number_of_wells}')\n",
        "add_line_to_file(f'Water: {water_volume*number_of_wells}',hand_Pipette_path,mode='w')\n",
        "print('mastermix to each well:',mastermix_vol)\n",
        "add_line_to_file(f'mastermix to each well:{mastermix_vol}',hand_Pipette_path,mode='w')\n",
        "print(f'mastermix in each strip: {mastermix_vol*number_of_wells/8}')"
      ],
      "execution_count": null,
      "outputs": [
        {
          "output_type": "stream",
          "text": [
            "100.0 2X\n",
            "dfhbi: 20.0\n",
            "tris_dtt: 200.0\n",
            "t7: 16.2456339858663\n",
            "236.24563398586633\n",
            "Water: 1063.7543660141337\n",
            "mastermix to each well: 13\n",
            "mastermix in each strip: 162.5\n"
          ],
          "name": "stdout"
        }
      ]
    },
    {
      "cell_type": "code",
      "metadata": {
        "id": "U_b0FwqJpQX1",
        "colab": {
          "base_uri": "https://localhost:8080/"
        },
        "outputId": "18f6457d-7809-4eb9-8d6d-56065427016a"
      },
      "source": [
        "print(162.5*8/2)\n",
        "print(1063.7543660141337/2)\n",
        "print(13*96/8)"
      ],
      "execution_count": 43,
      "outputs": [
        {
          "output_type": "stream",
          "text": [
            "650.0\n",
            "531.8771830070668\n",
            "156.0\n"
          ],
          "name": "stdout"
        }
      ]
    },
    {
      "cell_type": "markdown",
      "metadata": {
        "id": "ChkUxXRsptm6"
      },
      "source": [
        "#distribution"
      ]
    },
    {
      "cell_type": "code",
      "metadata": {
        "colab": {
          "base_uri": "https://localhost:8080/",
          "height": 419
        },
        "id": "TzPWImWa13s3",
        "outputId": "b163154a-6c8d-47a0-f4f2-6e3bf98fe790"
      },
      "source": [
        "#get info of the executed experiment\n",
        "executed_path='/content/drive/MyDrive/Thesis/IVT/dispendix/iter1/2020-11-10-2020-11-12 21:50:17.578393-concentrations.csv'\n",
        "executed_concentrations=pd.read_csv(executed_path)\n",
        "executed_concentrations.drop(columns=['Unnamed: 5','destinations'],inplace=True)\n",
        "executed_concentrations=executed_concentrations[:96]\n",
        "concentrations_columns=list(executed_concentrations)\n",
        "scanning_concentrations={}\n",
        "\n",
        "for column in concentrations_columns:\n",
        "  scanning_concentrations[column] = np.array(executed_concentrations[column])\n",
        "  scanning_concentrations[column]=scanning_concentrations[column].astype(float,copy=False)\n",
        "\n",
        "executed_concentrations"
      ],
      "execution_count": null,
      "outputs": [
        {
          "output_type": "execute_result",
          "data": {
            "text/html": [
              "<div>\n",
              "<style scoped>\n",
              "    .dataframe tbody tr th:only-of-type {\n",
              "        vertical-align: middle;\n",
              "    }\n",
              "\n",
              "    .dataframe tbody tr th {\n",
              "        vertical-align: top;\n",
              "    }\n",
              "\n",
              "    .dataframe thead th {\n",
              "        text-align: right;\n",
              "    }\n",
              "</style>\n",
              "<table border=\"1\" class=\"dataframe\">\n",
              "  <thead>\n",
              "    <tr style=\"text-align: right;\">\n",
              "      <th></th>\n",
              "      <th>spermidine</th>\n",
              "      <th>template</th>\n",
              "      <th>mgcl2</th>\n",
              "      <th>rntp</th>\n",
              "    </tr>\n",
              "  </thead>\n",
              "  <tbody>\n",
              "    <tr>\n",
              "      <th>0</th>\n",
              "      <td>7.1515834929378155</td>\n",
              "      <td>100.02359844829762</td>\n",
              "      <td>65.87337647424803</td>\n",
              "      <td>2.598990683143069</td>\n",
              "    </tr>\n",
              "    <tr>\n",
              "      <th>1</th>\n",
              "      <td>9.891616974582526</td>\n",
              "      <td>154.21956804045206</td>\n",
              "      <td>108.0123561522101</td>\n",
              "      <td>3.5129162575956836</td>\n",
              "    </tr>\n",
              "    <tr>\n",
              "      <th>2</th>\n",
              "      <td>2.5112153494305156</td>\n",
              "      <td>150.71164285404157</td>\n",
              "      <td>42.05022263924605</td>\n",
              "      <td>1.3685355152941048</td>\n",
              "    </tr>\n",
              "    <tr>\n",
              "      <th>3</th>\n",
              "      <td>8.666945987414952</td>\n",
              "      <td>69.28507970301177</td>\n",
              "      <td>19.58230592576924</td>\n",
              "      <td>4.305927040954567</td>\n",
              "    </tr>\n",
              "    <tr>\n",
              "      <th>4</th>\n",
              "      <td>2.847339049891594</td>\n",
              "      <td>58.39523933088221</td>\n",
              "      <td>56.99706065532879</td>\n",
              "      <td>0.6610313691471165</td>\n",
              "    </tr>\n",
              "    <tr>\n",
              "      <th>...</th>\n",
              "      <td>...</td>\n",
              "      <td>...</td>\n",
              "      <td>...</td>\n",
              "      <td>...</td>\n",
              "    </tr>\n",
              "    <tr>\n",
              "      <th>91</th>\n",
              "      <td>0.8538633082188563</td>\n",
              "      <td>13.329800681349276</td>\n",
              "      <td>69.74483621265544</td>\n",
              "      <td>2.116488177019563</td>\n",
              "    </tr>\n",
              "    <tr>\n",
              "      <th>92</th>\n",
              "      <td>5.687597996596757</td>\n",
              "      <td>16.214081880903368</td>\n",
              "      <td>39.95641774493461</td>\n",
              "      <td>1.1923896816308632</td>\n",
              "    </tr>\n",
              "    <tr>\n",
              "      <th>93</th>\n",
              "      <td>4.398608607453561</td>\n",
              "      <td>89.12542428291002</td>\n",
              "      <td>69.4890438218786</td>\n",
              "      <td>4.935712829814298</td>\n",
              "    </tr>\n",
              "    <tr>\n",
              "      <th>94</th>\n",
              "      <td>2.6879626246361865</td>\n",
              "      <td>189.0667649466583</td>\n",
              "      <td>11.2983951559126</td>\n",
              "      <td>1.481622861549886</td>\n",
              "    </tr>\n",
              "    <tr>\n",
              "      <th>95</th>\n",
              "      <td>5.987136289432473</td>\n",
              "      <td>149.98631987163927</td>\n",
              "      <td>84.57885822587322</td>\n",
              "      <td>4.809789217714486</td>\n",
              "    </tr>\n",
              "  </tbody>\n",
              "</table>\n",
              "<p>96 rows × 4 columns</p>\n",
              "</div>"
            ],
            "text/plain": [
              "            spermidine  ...                rntp\n",
              "0   7.1515834929378155  ...   2.598990683143069\n",
              "1    9.891616974582526  ...  3.5129162575956836\n",
              "2   2.5112153494305156  ...  1.3685355152941048\n",
              "3    8.666945987414952  ...   4.305927040954567\n",
              "4    2.847339049891594  ...  0.6610313691471165\n",
              "..                 ...  ...                 ...\n",
              "91  0.8538633082188563  ...   2.116488177019563\n",
              "92   5.687597996596757  ...  1.1923896816308632\n",
              "93   4.398608607453561  ...   4.935712829814298\n",
              "94  2.6879626246361865  ...   1.481622861549886\n",
              "95   5.987136289432473  ...   4.809789217714486\n",
              "\n",
              "[96 rows x 4 columns]"
            ]
          },
          "metadata": {
            "tags": []
          },
          "execution_count": 86
        }
      ]
    },
    {
      "cell_type": "code",
      "metadata": {
        "id": "JqOxcquSpvsT"
      },
      "source": [
        "\n",
        "def plot_3d_distribution (xs,ys,zs,name,xlabel='x',ylabel='y',zlabel='z'):\n",
        "  fig = plt.figure()\n",
        "  ax = fig.add_subplot(111, projection='3d')\n",
        "  ax.scatter(xs, ys, zs, zdir='z')\n",
        "  ax.set_xlabel(xlabel)\n",
        "  ax.set_ylabel(ylabel)\n",
        "  ax.set_zlabel(zlabel)\n",
        "  plt.show()\n",
        "  plt.savefig(saving_path(f'distribution-{name}','jpg'))\n",
        "  plt.clf()\n",
        "\n",
        "def plot_2d_distribution (x,y,name,xlabel='x',ylabel='y'):\n",
        "  #fig, ax = plt.subplots(dimensions[0],dimensions[1],figsize=100)\n",
        "  fig, ax = plt.subplots()\n",
        "  plt.scatter(x,y,alpha=0.2)\n",
        "  ax.set_xlabel(xlabel)\n",
        "  ax.set_ylabel(ylabel)\n",
        "  plt.show()\n",
        "  #plt.savefig(saving_path(f'distribution-{name}','jpg'))\n",
        "  plt.clf()"
      ],
      "execution_count": null,
      "outputs": []
    },
    {
      "cell_type": "code",
      "metadata": {
        "id": "pcEjeSNrqOwf",
        "colab": {
          "base_uri": "https://localhost:8080/",
          "height": 1000
        },
        "outputId": "d14ca499-d7c3-47a8-8a2c-94ee87989d62"
      },
      "source": [
        "comb=combinations(concentrations_columns,2)\n",
        "for names in comb:\n",
        "  print(names)\n",
        "  xlabel,ylabel=names\n",
        "  xs=scanning_concentrations[xlabel]\n",
        "  ys=scanning_concentrations[ylabel]\n",
        "  plot_2d_distribution(xs,ys,str(names),xlabel,ylabel)"
      ],
      "execution_count": null,
      "outputs": [
        {
          "output_type": "stream",
          "text": [
            "('spermidine', 'template')\n"
          ],
          "name": "stdout"
        },
        {
          "output_type": "display_data",
          "data": {
            "image/png": "[encoded data removed]",
            "text/plain": [
              "<Figure size 432x288 with 1 Axes>"
            ]
          },
          "metadata": {
            "tags": [],
            "needs_background": "light"
          }
        },
        {
          "output_type": "stream",
          "text": [
            "('spermidine', 'mgcl2')\n"
          ],
          "name": "stdout"
        },
        {
          "output_type": "display_data",
          "data": {
            "text/plain": [
              "<Figure size 432x288 with 0 Axes>"
            ]
          },
          "metadata": {
            "tags": []
          }
        },
        {
          "output_type": "display_data",
          "data": {
            "image/png": "[encoded data removed]",
            "text/plain": [
              "<Figure size 432x288 with 1 Axes>"
            ]
          },
          "metadata": {
            "tags": [],
            "needs_background": "light"
          }
        },
        {
          "output_type": "stream",
          "text": [
            "('spermidine', 'rntp')\n"
          ],
          "name": "stdout"
        },
        {
          "output_type": "display_data",
          "data": {
            "text/plain": [
              "<Figure size 432x288 with 0 Axes>"
            ]
          },
          "metadata": {
            "tags": []
          }
        },
        {
          "output_type": "display_data",
          "data": {
            "image/png": "[encoded data removed]",
            "text/plain": [
              "<Figure size 432x288 with 1 Axes>"
            ]
          },
          "metadata": {
            "tags": [],
            "needs_background": "light"
          }
        },
        {
          "output_type": "stream",
          "text": [
            "('template', 'mgcl2')\n"
          ],
          "name": "stdout"
        },
        {
          "output_type": "display_data",
          "data": {
            "text/plain": [
              "<Figure size 432x288 with 0 Axes>"
            ]
          },
          "metadata": {
            "tags": []
          }
        },
        {
          "output_type": "display_data",
          "data": {
            "image/png": "[encoded data removed]",
            "text/plain": [
              "<Figure size 432x288 with 1 Axes>"
            ]
          },
          "metadata": {
            "tags": [],
            "needs_background": "light"
          }
        },
        {
          "output_type": "stream",
          "text": [
            "('template', 'rntp')\n"
          ],
          "name": "stdout"
        },
        {
          "output_type": "display_data",
          "data": {
            "text/plain": [
              "<Figure size 432x288 with 0 Axes>"
            ]
          },
          "metadata": {
            "tags": []
          }
        },
        {
          "output_type": "display_data",
          "data": {
            "image/png": "[encoded data removed]",
            "text/plain": [
              "<Figure size 432x288 with 1 Axes>"
            ]
          },
          "metadata": {
            "tags": [],
            "needs_background": "light"
          }
        },
        {
          "output_type": "stream",
          "text": [
            "('mgcl2', 'rntp')\n"
          ],
          "name": "stdout"
        },
        {
          "output_type": "display_data",
          "data": {
            "text/plain": [
              "<Figure size 432x288 with 0 Axes>"
            ]
          },
          "metadata": {
            "tags": []
          }
        },
        {
          "output_type": "display_data",
          "data": {
            "image/png": "[encoded data removed]",
            "text/plain": [
              "<Figure size 432x288 with 1 Axes>"
            ]
          },
          "metadata": {
            "tags": [],
            "needs_background": "light"
          }
        },
        {
          "output_type": "display_data",
          "data": {
            "text/plain": [
              "<Figure size 432x288 with 0 Axes>"
            ]
          },
          "metadata": {
            "tags": []
          }
        }
      ]
    },
    {
      "cell_type": "code",
      "metadata": {
        "id": "7_GhOdoFqMd4"
      },
      "source": [
        "'''\n",
        "comb=combinations(concentrations_columns,3)\n",
        "for names in comb:\n",
        "  print(names)\n",
        "  xlabel,ylabel,zlabel=names\n",
        "  xs=scanning_concentrations[xlabel]\n",
        "  ys=scanning_concentrations[ylabel]\n",
        "  zs=scanning_concentrations[zlabel]\n",
        "  print(xs.shape,ys.shape,zs.shape)\n",
        "  plot_3d_distribution(xs,ys,zs,str(names),xlabel,ylabel,zlabel)\n",
        "  '''\n",
        "x=1"
      ],
      "execution_count": null,
      "outputs": []
    },
    {
      "cell_type": "code",
      "metadata": {
        "id": "yYswLo06ZVce"
      },
      "source": [
        ""
      ],
      "execution_count": null,
      "outputs": []
    }
  ]
}