{
  "nbformat": 4,
  "nbformat_minor": 0,
  "metadata": {
    "colab": {
      "name": "IVT-dispendix-1.ipynb",
      "provenance": [],
      "mount_file_id": "1xep4Tttimv289lBnrMGDk2QTBtr1J97n",
      "authorship_tag": "ABX9TyNkeVqpmeORUZDO3TZ8kd/3",
      "include_colab_link": true
    },
    "kernelspec": {
      "name": "python3",
      "display_name": "Python 3"
    }
  },
  "cells": [
    {
      "cell_type": "markdown",
      "metadata": {
        "id": "view-in-github",
        "colab_type": "text"
      },
      "source": [
        "<a href=\"https://colab.research.google.com/github/zmohaveri/IVT-ActiveLearning/blob/main/IVT_dispendix_1.ipynb\" target=\"_parent\"><img src=\"https://colab.research.google.com/assets/colab-badge.svg\" alt=\"Open In Colab\"/></a>"
      ]
    },
    {
      "cell_type": "markdown",
      "metadata": {
        "id": "MVgQKW1jROW-"
      },
      "source": [
        "#imports"
      ]
    },
    {
      "cell_type": "code",
      "metadata": {
        "id": "CZvD4C7yQvET"
      },
      "source": [
        "import numpy as np\n",
        "from collections import OrderedDict \n",
        "import pandas as pd\n",
        "from shutil import copyfile\n",
        "from string import ascii_uppercase as alphabets\n",
        "import datetime as tm\n",
        "from math import ceil"
      ],
      "execution_count": 23,
      "outputs": []
    },
    {
      "cell_type": "markdown",
      "metadata": {
        "id": "5Utep3G6RRm1"
      },
      "source": [
        "#Random samples"
      ]
    },
    {
      "cell_type": "markdown",
      "metadata": {
        "id": "Ub_STD_Fg_oH"
      },
      "source": [
        "##Making random points"
      ]
    },
    {
      "cell_type": "code",
      "metadata": {
        "id": "TOxP68oYR60c"
      },
      "source": [
        "def random_points_in_range(n,ranges):\n",
        "  points = np.empty((n,len(ranges)))\n",
        "  for i,element in enumerate(ranges):\n",
        "    start=min(element[1],element[0])\n",
        "    interval=abs(element[1]-element[0])\n",
        "    randoms = ( np.random.rand(n)*interval ) + start\n",
        "    points[:,i] = randoms.T\n",
        "  return points"
      ],
      "execution_count": 2,
      "outputs": []
    },
    {
      "cell_type": "markdown",
      "metadata": {
        "id": "QQNxMYJShCEz"
      },
      "source": [
        "##adding pipetting action for each point to a CSV"
      ]
    },
    {
      "cell_type": "code",
      "metadata": {
        "id": "0Yr7LiU-fyVu"
      },
      "source": [
        "def add_line_to_file(line,file_path,mode='a'):\n",
        "  with open(file_path,mode) as file:\n",
        "    file.write('\\n'+line)\n",
        "\n",
        "def concentration_to_volume(sample_volume,concentration,stock_concentration):\n",
        "  #c1.v1=c2.v2 => v1=c2.v2/c1\n",
        "  return concentration*sample_volume/stock_concentration\n",
        "\n",
        "def concentration_points_to_volumes(points,sample_volume,scanning_elements):\n",
        "  max_volume=0\n",
        "  volume_points=np.empty(points.shape)\n",
        "  sums=np.zeros(points.shape[1:])\n",
        "  for j,point in enumerate(points):\n",
        "    volume_point=np.empty(points.shape[1:])\n",
        "    for i,element in enumerate(scanning_elements):\n",
        "      volume= concentration_to_volume(sample_volume,point[i],scanning_elements[element][1])\n",
        "      sums[i] += volume\n",
        "      source=scanning_elements[element][0]\n",
        "      volume_point[i] = volume\n",
        "    max_volume= max( np.sum(volume_point) , max_volume)\n",
        "    volume_points[j]=volume_point\n",
        "  return volume_points,max_volume,sums\n",
        "\n",
        "def add_dispense_to_file(volume_point,destination,fill_up_to,water_position,scanning_elements,file_path):\n",
        "  for i,element in enumerate(scanning_elements):\n",
        "    #volume = concentration_to_volume(sample_volume,point[i],scanning_elements[element][1])\n",
        "    source = scanning_elements[element][0]\n",
        "    add_line_to_file(f'{source},{destination},{volume_point[i]},{element}',file_path)\n",
        "  water_volume = fill_up_to - np.sum(volume_point)\n",
        "  add_line_to_file(f'{water_position},{destination},{water_volume},Water',file_path)\n",
        "  return water_volume\n",
        "\n",
        "def collection_to_csv_keys(collection):\n",
        "  csv=''\n",
        "  for element in collection:\n",
        "    csv += f'{element},'\n",
        "  return csv\n",
        "\n",
        "def points_to_protocol(points,destination_wells,sample_volume,scanning_elements,water_position,protocol_path,record_path):\n",
        "  add_line_to_file(f'destinations,{collection_to_csv_keys(scanning_elements)}',record_path,mode='a')\n",
        "  volume_points,max_volume,sums=concentration_points_to_volumes(points,sample_volume,scanning_elements)\n",
        "  max_volume=ceil(max_volume)\n",
        "  for i,volum_point in enumerate(volume_points):\n",
        "    add_dispense_to_file(volum_point,destination_wells[i],max_volume,water_position,scanning_elements,protocol_path)\n",
        "    add_line_to_file(f'{destination_wells[i]},{collection_to_csv_keys(points[i])}',record_path)\n",
        "  return max_volume,sums\n",
        "\n",
        "def make_destination_wells(starting_number,finishing_number,starting_letter,finishing_letter):\n",
        "  destination_wells=[]\n",
        "  for letter in alphabets[alphabets.find(starting_letter):alphabets.find(finishing_letter)+1]:\n",
        "    for number in range(starting_number,finishing_number+1):\n",
        "      destination_wells.append(f'{letter}{number}')\n",
        "  return destination_wells\n"
      ],
      "execution_count": 47,
      "outputs": []
    },
    {
      "cell_type": "code",
      "metadata": {
        "id": "bazqx6kcwTTt",
        "outputId": "8bae8177-2329-425d-fc3c-36124c940a48",
        "colab": {
          "base_uri": "https://localhost:8080/"
        }
      },
      "source": [
        "sample_volume=20\n",
        "\n",
        "label=f'2020-11-10-{tm.datetime.now()}-'\n",
        "empty_path='/content/drive/My Drive/Thesis/IVT/dispendix/CSV_empty_header.csv'\n",
        "protocol_path=f'/content/drive/My Drive/Thesis/IVT/dispendix/{label}protocol.csv'\n",
        "record_path=f'/content/drive/My Drive/Thesis/IVT/dispendix/{label}concentrations.csv'\n",
        "copyfile(empty_path,protocol_path)\n",
        "\n",
        "scanning_elements = OrderedDict({'spermidine':('B1',1000),'template':('C1',5000),'mgcl2':('D1',2000),'rntp':('E1',25)})\n",
        "water_position='A1'\n",
        "random_samples = random_points_in_range(96,[(0,10),(0,300),(0,150),(0,5)])\n",
        "destination_wells1 = make_destination_wells(19,24,'A','P')\n",
        "destination_wells2 = make_destination_wells(13,18,'A','P')#rep2\n",
        "points_to_protocol(random_samples,destination_wells1,sample_volume,scanning_elements,water_position,protocol_path,record_path)\n",
        "max_volume,sums=points_to_protocol(random_samples,destination_wells2,sample_volume,scanning_elements,water_position,protocol_path,record_path)\n",
        "print(max_volume)\n",
        "print(sums*2)"
      ],
      "execution_count": 49,
      "outputs": [
        {
          "output_type": "stream",
          "text": [
            "6\n",
            "[ 19.77625379 123.16260055 132.91132726 403.20234742]\n"
          ],
          "name": "stdout"
        }
      ]
    },
    {
      "cell_type": "code",
      "metadata": {
        "id": "Uob6IQmlamEw",
        "outputId": "3320a013-4b40-4eeb-8cd1-a0b4d948aec7",
        "colab": {
          "base_uri": "https://localhost:8080/"
        }
      },
      "source": [
        "print(random_samples)"
      ],
      "execution_count": 29,
      "outputs": [
        {
          "output_type": "stream",
          "text": [
            "[[9.11427139e+00 9.27115350e+01 5.32010420e+01 2.51054522e+00]\n",
            " [4.74400563e+00 1.40836565e+02 1.36926803e+02 1.71623440e+00]\n",
            " [5.30417894e+00 1.41106780e+02 4.93742986e+01 1.21574497e+00]\n",
            " [1.28379448e+00 2.69975753e+02 2.45298956e+01 1.20943157e+00]\n",
            " [4.46008484e+00 2.65291665e+02 1.16193795e+02 1.27485888e+00]\n",
            " [1.03725041e+00 4.08860763e+01 1.32170007e+02 4.06042868e+00]\n",
            " [9.98375529e+00 1.28472396e+01 8.33650979e+01 1.77447684e+00]\n",
            " [2.87433221e+00 2.76173767e+02 1.36516110e+02 2.70014999e+00]\n",
            " [4.01876319e+00 3.02412471e+01 3.57586209e+01 4.85349655e+00]\n",
            " [8.47914269e+00 1.38952636e+02 1.25210832e+02 6.30951224e-01]\n",
            " [1.09316988e+00 2.88675265e+02 1.37637134e+01 2.13198975e+00]\n",
            " [2.54706141e+00 2.86701814e+02 2.69910630e+01 3.30253919e+00]\n",
            " [6.08782564e+00 2.20487054e+02 7.48305200e+01 3.50744771e+00]\n",
            " [8.24653088e+00 2.76612135e+01 7.93110697e+01 2.43462727e+00]\n",
            " [9.80316720e+00 9.14650749e+01 1.33289978e+02 1.20699103e+00]\n",
            " [2.15074205e+00 9.85061003e+01 1.08082539e+02 4.74907836e+00]\n",
            " [1.55444709e+00 1.95092399e+02 6.03951100e+01 5.94263538e-01]\n",
            " [7.54001109e+00 2.87552779e+01 3.37100740e+01 2.11347892e+00]\n",
            " [7.59249527e+00 1.66334566e+02 1.39317462e+01 2.38695334e+00]\n",
            " [7.17838369e+00 2.35378692e+02 7.05469577e+01 1.43053113e+00]\n",
            " [7.41007549e+00 1.52946000e+02 8.57515237e+01 1.83444366e+00]\n",
            " [8.86043413e-01 5.21198349e+01 1.31221512e+02 1.78518728e+00]\n",
            " [4.42686759e+00 7.15266924e+01 1.43594332e+02 4.32184097e+00]\n",
            " [7.09183312e-01 7.83885009e+01 1.38004515e+02 3.68526694e+00]\n",
            " [7.02890866e+00 1.04769665e+02 4.14885718e+01 3.47627052e+00]\n",
            " [2.74548248e+00 2.77811906e+02 2.34042952e+01 3.24971843e+00]\n",
            " [3.11514420e+00 1.26028528e+02 1.77614435e+01 7.13012313e-01]\n",
            " [5.55226215e+00 1.48622228e+02 1.08188052e+01 4.28823674e+00]\n",
            " [6.09882535e-01 9.40087089e+01 7.86543640e+01 2.91339082e+00]\n",
            " [9.68202601e-01 8.17814883e+01 4.01844408e+01 2.61263213e+00]\n",
            " [5.50050505e+00 1.20897971e+01 1.32736975e+02 2.92037084e+00]\n",
            " [6.24381334e+00 2.14666839e+02 2.90712440e+01 6.80014338e-01]\n",
            " [8.29585443e-01 9.10462748e+01 5.76232300e+01 4.05837458e+00]\n",
            " [2.01197777e+00 2.85892053e+01 5.21301861e+01 2.08100128e+00]\n",
            " [6.28668179e+00 1.36955737e+02 4.38069244e+00 3.49569006e-01]\n",
            " [8.56077946e+00 8.04699639e+01 2.53011714e+01 1.21792427e+00]\n",
            " [7.55180115e+00 6.76988791e-01 1.29910505e+02 3.27057975e+00]\n",
            " [2.18679537e+00 1.49010126e+02 3.12393918e+01 3.46277099e+00]\n",
            " [4.30729168e+00 2.36513199e+02 1.49791282e+02 6.12532317e-01]\n",
            " [1.74554997e+00 1.98383495e+02 9.35321695e+00 4.85967110e+00]\n",
            " [9.17060329e+00 1.17470128e+02 1.36515581e+02 4.31633197e+00]\n",
            " [2.50256672e+00 3.58750971e+01 1.54700440e+01 8.14445672e-01]\n",
            " [1.99043329e+00 1.91834696e+02 1.03040270e+02 4.95049390e+00]\n",
            " [4.20966029e-01 1.83089250e+02 4.90137750e+01 3.76124542e+00]\n",
            " [3.96723413e-01 5.30625212e+01 9.59022063e+01 4.08784696e+00]\n",
            " [9.93127600e+00 2.17097591e+02 1.97936935e+01 3.32024375e+00]\n",
            " [8.53078130e-01 1.01967090e+02 3.66022044e+01 2.82995103e+00]\n",
            " [2.18171160e+00 6.49219293e+01 1.48064463e+01 3.16751141e+00]\n",
            " [6.31304017e-01 6.53214164e+01 1.18921749e+02 2.37080908e+00]\n",
            " [7.73227521e+00 7.66786568e+01 3.41937143e+01 2.47553962e+00]\n",
            " [2.06411399e+00 4.83068087e+01 4.72594798e-01 4.85028822e+00]\n",
            " [2.37130959e+00 2.91796612e+02 1.43852827e+02 4.88221664e+00]\n",
            " [8.66506333e+00 1.10698157e+02 3.81644719e+00 2.43688734e+00]\n",
            " [5.26873049e+00 1.25533093e+02 1.90717365e+01 1.27251974e+00]\n",
            " [4.22797394e+00 7.17194984e+01 7.18974208e+01 2.95074673e+00]\n",
            " [2.33097434e+00 2.11476407e+02 1.13856018e+02 1.22370920e-01]\n",
            " [5.28275155e+00 2.89051224e+02 1.07767537e+02 3.38239347e+00]\n",
            " [6.55799097e+00 2.97812048e+02 2.07041703e+00 2.92070683e+00]\n",
            " [7.34848061e-01 2.85660135e+02 1.24698360e+02 3.39516770e+00]\n",
            " [7.93531675e+00 2.00431781e+01 1.49989786e+02 3.81251711e+00]\n",
            " [5.48706195e+00 3.69926031e+01 3.40567757e+01 2.38156222e+00]\n",
            " [2.14140398e+00 4.27114985e+01 9.54461314e+00 3.78411574e-01]\n",
            " [4.56726990e+00 4.72308303e+01 3.18529365e+01 3.25357160e+00]\n",
            " [5.37368305e+00 1.65352446e+02 1.00570098e+01 7.99906644e-01]\n",
            " [4.26370404e+00 2.21119594e+02 1.42330289e+01 1.48089460e+00]\n",
            " [7.11109770e+00 1.72678243e+02 1.45711182e+02 2.46884260e+00]\n",
            " [5.57985102e+00 2.92742652e+02 1.10899604e+02 2.21145919e+00]\n",
            " [1.07448305e-01 8.31124809e+01 9.31162272e+01 1.34270334e+00]\n",
            " [9.17384658e+00 7.66338549e+01 2.51322237e+01 4.26098323e+00]\n",
            " [3.70739503e+00 2.03013794e+02 6.92763064e+01 6.83391894e-01]\n",
            " [4.83515861e+00 7.97991451e+01 9.33883058e+01 1.90091645e+00]\n",
            " [5.72407515e+00 2.68070185e+02 1.18800928e+02 2.23686856e+00]\n",
            " [1.65597007e+00 7.21221213e+01 1.03190458e+02 4.87142042e+00]\n",
            " [3.40538478e+00 1.91205706e+02 1.02067022e+02 2.07977319e+00]\n",
            " [2.87926379e+00 1.45135863e+02 1.16252999e+02 3.11561846e+00]\n",
            " [6.30473923e+00 8.78372895e+01 5.17826079e+01 1.84577609e+00]\n",
            " [6.29732320e+00 1.37236065e+02 9.07688801e+01 3.74263875e+00]\n",
            " [3.58622456e+00 1.37412629e+02 8.95106853e+01 1.44774103e+00]\n",
            " [9.07454134e+00 1.89349095e+02 4.10644431e+01 1.55900969e+00]\n",
            " [7.18770125e-01 2.49534768e+02 1.30221404e+02 6.84889762e-01]\n",
            " [3.25325222e-01 1.38732752e+02 1.37131622e+02 2.01183490e+00]\n",
            " [8.91193971e+00 2.62326315e+01 5.79318566e+01 2.12378584e+00]\n",
            " [3.85781814e+00 1.86165968e+02 1.03753013e+02 3.13990709e+00]\n",
            " [8.11606014e-01 4.92817400e+01 1.02534749e+02 2.24713792e+00]\n",
            " [4.70414562e+00 4.29489870e+01 1.48413000e+02 3.93738584e+00]\n",
            " [6.73742262e+00 1.90876535e+02 1.05632480e+02 9.08230467e-01]\n",
            " [9.89349641e+00 2.71055735e+02 9.89840900e+01 3.99537030e+00]\n",
            " [6.74502346e+00 3.33460461e+01 1.27095711e+02 1.41496782e-01]\n",
            " [6.64349446e+00 1.81027030e+02 1.37688070e+02 8.61517337e-02]\n",
            " [7.92168730e+00 2.17950021e+02 1.43593916e+02 1.57980307e+00]\n",
            " [6.54462090e+00 2.10995337e+02 5.34262437e+01 4.93470796e+00]\n",
            " [7.48689106e+00 1.61691761e+02 7.80557441e-01 1.34788944e+00]\n",
            " [3.18600767e+00 2.03462127e+02 8.89679412e+01 1.89720400e+00]\n",
            " [9.11012044e+00 9.43856076e+01 1.25102477e+02 3.04287900e+00]\n",
            " [8.88039437e+00 1.72026303e+02 9.59185419e+01 7.62726527e-01]\n",
            " [8.55489945e+00 5.14946852e+01 1.23749343e+02 3.04828836e+00]]\n"
          ],
          "name": "stdout"
        }
      ]
    },
    {
      "cell_type": "code",
      "metadata": {
        "id": "IWlGBzQJOXq1",
        "outputId": "b4f24d63-8a5a-4fc1-92e2-b8c8c8e153b5",
        "colab": {
          "base_uri": "https://localhost:8080/",
          "height": 130
        }
      },
      "source": [
        "print(np.sum(random_samples,axis=1).shape)\n",
        "print(random_samples[0])\n",
        "print(random_samples.shape[1:])\n",
        "copy=np.empty(random_samples.shape)\n",
        "for point in random_samples:\n",
        "  next(copy)=point\n",
        "print(copy.shape)"
      ],
      "execution_count": 12,
      "outputs": [
        {
          "output_type": "error",
          "ename": "SyntaxError",
          "evalue": "ignored",
          "traceback": [
            "\u001b[0;36m  File \u001b[0;32m\"<ipython-input-12-35aaf7003c73>\"\u001b[0;36m, line \u001b[0;32m6\u001b[0m\n\u001b[0;31m    next(copy)=point\u001b[0m\n\u001b[0m    ^\u001b[0m\n\u001b[0;31mSyntaxError\u001b[0m\u001b[0;31m:\u001b[0m can't assign to function call\n"
          ]
        }
      ]
    },
    {
      "cell_type": "markdown",
      "metadata": {
        "id": "ChkUxXRsptm6"
      },
      "source": [
        "#distribution"
      ]
    },
    {
      "cell_type": "code",
      "metadata": {
        "id": "JqOxcquSpvsT"
      },
      "source": [
        "def plot_3d_distribution (xs,ys,zs,name,xlabel='x',ylabel='y',zlabel='z'):\n",
        "  fig = plt.figure()\n",
        "  ax = fig.add_subplot(111, projection='3d')\n",
        "  ax.scatter(xs, ys, zs, zdir='z')\n",
        "  ax.set_xlabel(xlabel)\n",
        "  ax.set_ylabel(ylabel)\n",
        "  ax.set_zlabel(zlabel)\n",
        "  plt.show()\n",
        "  plt.savefig(saving_path(f'distribution-{name}','jpg'))\n",
        "  plt.clf()\n",
        "\n",
        "def plot_2d_distribution (x,y,name,xlabel='x',ylabel='y'):\n",
        "  #fig, ax = plt.subplots(dimensions[0],dimensions[1],figsize=100)\n",
        "  fig, ax = plt.subplots()\n",
        "  plt.scatter(x,y,alpha=0.2)\n",
        "  ax.set_xlabel(xlabel)\n",
        "  ax.set_ylabel(ylabel)\n",
        "  plt.show()\n",
        "  plt.savefig(saving_path(f'distribution-{name}','jpg'))\n",
        "  plt.clf()"
      ],
      "execution_count": 5,
      "outputs": []
    },
    {
      "cell_type": "code",
      "metadata": {
        "id": "7_GhOdoFqMd4"
      },
      "source": [
        "comb=combinations(scanning_elements,3)\n",
        "for names in comb:\n",
        "  print(names)\n",
        "  xlabel,ylabel,zlabel=names\n",
        "  xs=scanning_concentrations[xlabel]\n",
        "  ys=scanning_concentrations[ylabel]\n",
        "  zs=scanning_concentrations[zlabel]\n",
        "  print(xs.shape,ys.shape,zs.shape)\n",
        "  plot_3d_distribution(xs,ys,zs,str(names),xlabel,ylabel,zlabel)"
      ],
      "execution_count": null,
      "outputs": []
    },
    {
      "cell_type": "code",
      "metadata": {
        "id": "pcEjeSNrqOwf"
      },
      "source": [
        "comb=combinations(scanning_profile,2)\n",
        "for names in comb:\n",
        "  print(names)\n",
        "  xlabel,ylabel=names\n",
        "  xs=scanning_concentrations[xlabel]\n",
        "  ys=scanning_concentrations[ylabel]\n",
        "  plot_2d_distribution(xs,ys,str(names),xlabel,ylabel)"
      ],
      "execution_count": null,
      "outputs": []
    },
    {
      "cell_type": "code",
      "metadata": {
        "id": "yYswLo06ZVce"
      },
      "source": [
        ""
      ],
      "execution_count": null,
      "outputs": []
    }
  ]
}